{
  "nbformat": 4,
  "nbformat_minor": 0,
  "metadata": {
    "colab": {
      "name": "Day 2 data (datetime).ipynb",
      "version": "0.3.2",
      "provenance": [],
      "collapsed_sections": [
        "185t-77v5uMT",
        "CO2TpMkBD8qa",
        "yxE5oilWGos_"
      ],
      "include_colab_link": true
    },
    "kernelspec": {
      "name": "python3",
      "display_name": "Python 3"
    }
  },
  "cells": [
    {
      "cell_type": "markdown",
      "metadata": {
        "id": "view-in-github",
        "colab_type": "text"
      },
      "source": [
        "<a href=\"https://colab.research.google.com/github/MorningMoment/Python_Material/blob/master/Day_2_data_(datetime).ipynb\" target=\"_parent\"><img src=\"https://colab.research.google.com/assets/colab-badge.svg\" alt=\"Open In Colab\"/></a>"
      ]
    },
    {
      "cell_type": "markdown",
      "metadata": {
        "id": "X0VMrUlcGSpa",
        "colab_type": "text"
      },
      "source": [
        "# Computing Bootcamp II -- Data Processing (numpy & pandas)\n"
      ]
    },
    {
      "cell_type": "markdown",
      "metadata": {
        "id": "JE5IoUw9_O6W",
        "colab_type": "text"
      },
      "source": [
        "Ziwei Wang - zwwang@uchicago.edu"
      ]
    },
    {
      "cell_type": "code",
      "metadata": {
        "id": "vLSJfgJQEUMh",
        "colab_type": "code",
        "outputId": "67cc6277-9731-4a88-b73f-91ab178a93b9",
        "colab": {
          "base_uri": "https://localhost:8080/",
          "height": 275
        }
      },
      "source": [
        "### Load python packages\n",
        "import numpy as np \n",
        "import pandas as pd\n",
        "import os\n",
        "import fnmatch\n",
        "import h5py                             # hdf5 or .nc4 (this is 200x faster than netCDF4 for .nc4, does not work for .nc files)\n",
        "import imageio                          # load png into numpy array\n",
        "from skimage import io                  # for tif files\n",
        "from sklearn import datasets as skdata  # Toy Datasets\n",
        "import multiprocessing                  # Simple multi-processing\n",
        "import matplotlib.pyplot as plt         \n",
        "\n",
        "# To install netCDF4 for .nc files (does not come pre-loaded in CO)\n",
        "!pip install netCDF4\n",
        "from netCDF4 import Dataset\n",
        "\n",
        "### To mount google drive in runtime to access files in the drive so you can access files\n",
        "from google.colab import drive\n",
        "drive.mount('/content/drive')"
      ],
      "execution_count": 1,
      "outputs": [
        {
          "output_type": "stream",
          "text": [
            "Collecting netCDF4\n",
            "\u001b[?25l  Downloading https://files.pythonhosted.org/packages/e4/bd/689b5f9194a47240dad6cd1fd5854ab5253a7702b3bfcf4f5132db8344c8/netCDF4-1.5.2-cp36-cp36m-manylinux1_x86_64.whl (4.1MB)\n",
            "\u001b[K     |████████████████████████████████| 4.1MB 2.8MB/s \n",
            "\u001b[?25hRequirement already satisfied: numpy>=1.7 in /usr/local/lib/python3.6/dist-packages (from netCDF4) (1.16.5)\n",
            "Collecting cftime (from netCDF4)\n",
            "\u001b[?25l  Downloading https://files.pythonhosted.org/packages/70/64/8ceadda42af3c1b27ee77005807e38c6d77baef28a8f9216b60577fddd71/cftime-1.0.3.4-cp36-cp36m-manylinux1_x86_64.whl (305kB)\n",
            "\u001b[K     |████████████████████████████████| 307kB 46.1MB/s \n",
            "\u001b[?25hInstalling collected packages: cftime, netCDF4\n",
            "Successfully installed cftime-1.0.3.4 netCDF4-1.5.2\n",
            "Go to this URL in a browser: https://accounts.google.com/o/oauth2/auth?client_id=947318989803-6bn6qk8qdgf4n4g3pfee6491hc0brc4i.apps.googleusercontent.com&redirect_uri=urn%3Aietf%3Awg%3Aoauth%3A2.0%3Aoob&scope=email%20https%3A%2F%2Fwww.googleapis.com%2Fauth%2Fdocs.test%20https%3A%2F%2Fwww.googleapis.com%2Fauth%2Fdrive%20https%3A%2F%2Fwww.googleapis.com%2Fauth%2Fdrive.photos.readonly%20https%3A%2F%2Fwww.googleapis.com%2Fauth%2Fpeopleapi.readonly&response_type=code\n",
            "\n",
            "Enter your authorization code:\n",
            "··········\n",
            "Mounted at /content/drive\n"
          ],
          "name": "stdout"
        }
      ]
    },
    {
      "cell_type": "code",
      "metadata": {
        "id": "R1jk6nbNWRml",
        "colab_type": "code",
        "outputId": "06618a82-31ab-412f-df8c-1c635b747b4b",
        "colab": {
          "base_uri": "https://localhost:8080/",
          "height": 51
        }
      },
      "source": [
        "### Change the current working directory to folder on drive\n",
        "homedir = '/content/drive/My Drive/my_bootcamp/'   ## if you named your local folder 'my_bootcamp'\n",
        "sharedir = '/content/drive/My Drive/cfr_bootcamp/'  ## folder shared through Google Drive link on Github page\n",
        "os.chdir(homedir)\n",
        "print(\"current directory is : \" + homedir)\n",
        "\n",
        "loaddir = '/content/drive/My Drive/cfr_bootcamp/Data/'      \n",
        "print(\"load directory is : \" + loaddir)"
      ],
      "execution_count": 2,
      "outputs": [
        {
          "output_type": "stream",
          "text": [
            "current directory is : /content/drive/My Drive/my_bootcamp/\n",
            "load directory is : /content/drive/My Drive/cfr_bootcamp/Data/\n"
          ],
          "name": "stdout"
        }
      ]
    },
    {
      "cell_type": "markdown",
      "metadata": {
        "id": "2gkEg8fbj4M5",
        "colab_type": "text"
      },
      "source": [
        "## Navigating Google Colaboratory"
      ]
    },
    {
      "cell_type": "markdown",
      "metadata": {
        "id": "9lRUpjELSUfF",
        "colab_type": "text"
      },
      "source": [
        "Try out the new code editor! You will be prompted to use that every time you open a Colab notebook. \n",
        "*   Auto completion of codes. \n",
        "*   Documentation of functions. "
      ]
    },
    {
      "cell_type": "markdown",
      "metadata": {
        "id": "BT0sIPz3mtKk",
        "colab_type": "text"
      },
      "source": [
        "### Most shell commands work in the following fashion \n",
        "*   %cd *dir*\n",
        "*   !ls\n",
        "*   !pwd"
      ]
    },
    {
      "cell_type": "code",
      "metadata": {
        "id": "aAzTJZW68a6I",
        "colab_type": "code",
        "colab": {}
      },
      "source": [
        "# to view dataframes interactivly\n",
        "%load_ext google.colab.data_table"
      ],
      "execution_count": 0,
      "outputs": []
    },
    {
      "cell_type": "markdown",
      "metadata": {
        "id": "185t-77v5uMT",
        "colab_type": "text"
      },
      "source": [
        "### Magic commands\n",
        "Cell magic commands from IPython come with Colab Notebook. <br>\n",
        "https://nbviewer.jupyter.org/github/ipython/ipython/blob/1.x/examples/notebooks/Cell%20Magics.ipynb"
      ]
    },
    {
      "cell_type": "code",
      "metadata": {
        "id": "asOJYncC7U7x",
        "colab_type": "code",
        "outputId": "22039d71-8208-47f0-e8a2-8b3e74b64f6c",
        "colab": {
          "base_uri": "https://localhost:8080/"
        }
      },
      "source": [
        "%lsmagic"
      ],
      "execution_count": 0,
      "outputs": [
        {
          "output_type": "execute_result",
          "data": {
            "application/json": {
              "cell": {
                "prun": "ExecutionMagics",
                "file": "Other",
                "!": "OSMagics",
                "capture": "ExecutionMagics",
                "timeit": "ExecutionMagics",
                "script": "ScriptMagics",
                "pypy": "Other",
                "system": "OSMagics",
                "perl": "Other",
                "html": "DisplayMagics",
                "bash": "Other",
                "shell": "Other",
                "HTML": "Other",
                "python": "Other",
                "SVG": "Other",
                "javascript": "DisplayMagics",
                "bigquery": "Other",
                "js": "DisplayMagics",
                "writefile": "OSMagics",
                "ruby": "Other",
                "python3": "Other",
                "python2": "Other",
                "latex": "DisplayMagics",
                "sx": "OSMagics",
                "svg": "DisplayMagics",
                "sh": "Other",
                "time": "ExecutionMagics",
                "debug": "ExecutionMagics"
              },
              "line": {
                "psource": "NamespaceMagics",
                "logstart": "LoggingMagics",
                "popd": "OSMagics",
                "tensorflow_version": "Other",
                "loadpy": "CodeMagics",
                "colors": "BasicMagics",
                "who_ls": "NamespaceMagics",
                "lf": "Other",
                "ll": "Other",
                "pprint": "BasicMagics",
                "lk": "Other",
                "ls": "Other",
                "save": "CodeMagics",
                "tb": "ExecutionMagics",
                "lx": "Other",
                "pylab": "PylabMagics",
                "killbgscripts": "ScriptMagics",
                "quickref": "BasicMagics",
                "magic": "BasicMagics",
                "dhist": "OSMagics",
                "edit": "KernelMagics",
                "logstop": "LoggingMagics",
                "gui": "BasicMagics",
                "prun": "ExecutionMagics",
                "debug": "ExecutionMagics",
                "page": "BasicMagics",
                "logstate": "LoggingMagics",
                "ed": "Other",
                "pushd": "OSMagics",
                "timeit": "ExecutionMagics",
                "set_env": "OSMagics",
                "rehashx": "OSMagics",
                "hist": "Other",
                "qtconsole": "KernelMagics",
                "rm": "Other",
                "dirs": "OSMagics",
                "run": "ExecutionMagics",
                "reset_selective": "NamespaceMagics",
                "pinfo2": "NamespaceMagics",
                "matplotlib": "PylabMagics",
                "unload_ext": "ExtensionMagics",
                "doctest_mode": "BasicMagics",
                "logoff": "LoggingMagics",
                "reload_ext": "ExtensionMagics",
                "pdb": "ExecutionMagics",
                "load": "CodeMagics",
                "lsmagic": "BasicMagics",
                "autosave": "KernelMagics",
                "cd": "OSMagics",
                "pastebin": "CodeMagics",
                "alias_magic": "BasicMagics",
                "cp": "Other",
                "autocall": "AutoMagics",
                "ldir": "Other",
                "bookmark": "OSMagics",
                "connect_info": "KernelMagics",
                "mkdir": "Other",
                "system": "OSMagics",
                "whos": "NamespaceMagics",
                "rmdir": "Other",
                "automagic": "AutoMagics",
                "store": "StoreMagics",
                "more": "KernelMagics",
                "shell": "Other",
                "pdef": "NamespaceMagics",
                "precision": "BasicMagics",
                "pinfo": "NamespaceMagics",
                "pwd": "OSMagics",
                "psearch": "NamespaceMagics",
                "reset": "NamespaceMagics",
                "recall": "HistoryMagics",
                "xdel": "NamespaceMagics",
                "xmode": "BasicMagics",
                "cat": "Other",
                "mv": "Other",
                "rerun": "HistoryMagics",
                "logon": "LoggingMagics",
                "history": "HistoryMagics",
                "pycat": "OSMagics",
                "pip": "Other",
                "unalias": "OSMagics",
                "env": "OSMagics",
                "load_ext": "ExtensionMagics",
                "config": "ConfigMagics",
                "profile": "BasicMagics",
                "pfile": "NamespaceMagics",
                "less": "KernelMagics",
                "who": "NamespaceMagics",
                "notebook": "BasicMagics",
                "man": "KernelMagics",
                "sx": "OSMagics",
                "macro": "ExecutionMagics",
                "clear": "KernelMagics",
                "alias": "OSMagics",
                "time": "ExecutionMagics",
                "sc": "OSMagics",
                "rep": "Other",
                "pdoc": "NamespaceMagics"
              }
            },
            "text/plain": [
              "Available line magics:\n",
              "%alias  %alias_magic  %autocall  %automagic  %autosave  %bookmark  %cat  %cd  %clear  %colors  %config  %connect_info  %cp  %debug  %dhist  %dirs  %doctest_mode  %ed  %edit  %env  %gui  %hist  %history  %killbgscripts  %ldir  %less  %lf  %lk  %ll  %load  %load_ext  %loadpy  %logoff  %logon  %logstart  %logstate  %logstop  %ls  %lsmagic  %lx  %macro  %magic  %man  %matplotlib  %mkdir  %more  %mv  %notebook  %page  %pastebin  %pdb  %pdef  %pdoc  %pfile  %pinfo  %pinfo2  %pip  %popd  %pprint  %precision  %profile  %prun  %psearch  %psource  %pushd  %pwd  %pycat  %pylab  %qtconsole  %quickref  %recall  %rehashx  %reload_ext  %rep  %rerun  %reset  %reset_selective  %rm  %rmdir  %run  %save  %sc  %set_env  %shell  %store  %sx  %system  %tb  %tensorflow_version  %time  %timeit  %unalias  %unload_ext  %who  %who_ls  %whos  %xdel  %xmode\n",
              "\n",
              "Available cell magics:\n",
              "%%!  %%HTML  %%SVG  %%bash  %%bigquery  %%capture  %%debug  %%file  %%html  %%javascript  %%js  %%latex  %%perl  %%prun  %%pypy  %%python  %%python2  %%python3  %%ruby  %%script  %%sh  %%shell  %%svg  %%sx  %%system  %%time  %%timeit  %%writefile\n",
              "\n",
              "Automagic is ON, % prefix IS NOT needed for line magics."
            ]
          },
          "metadata": {
            "tags": []
          },
          "execution_count": 4
        }
      ]
    },
    {
      "cell_type": "markdown",
      "metadata": {
        "id": "3MTpLNzHBoOX",
        "colab_type": "text"
      },
      "source": [
        "A simple example of what you could do with cell magic (%%time). We will cover cython magic later (Time-saving in numpy). "
      ]
    },
    {
      "cell_type": "code",
      "metadata": {
        "id": "h9K4vuNpDosy",
        "colab_type": "code",
        "colab": {}
      },
      "source": [
        "# Initialize a random matrix with specified dimensions\n",
        "a = np.random.random_sample((30, 20))\n"
      ],
      "execution_count": 0,
      "outputs": []
    },
    {
      "cell_type": "code",
      "metadata": {
        "id": "t2huixSmgTqT",
        "colab_type": "code",
        "outputId": "8b5ba52a-773e-432f-a8e3-77686004860c",
        "colab": {
          "base_uri": "https://localhost:8080/"
        }
      },
      "source": [
        "# 'Magic' command in ipython notebook cells\n",
        "%%time\n",
        "sz = np.shape(a)\n",
        "print(sz)\n",
        "sum = 0.\n",
        "for row in range(sz[0]):\n",
        "  for col in range(sz[1]):\n",
        "    sum = sum+a[row,col]\n"
      ],
      "execution_count": 0,
      "outputs": [
        {
          "output_type": "stream",
          "text": [
            "(30, 20)\n",
            "CPU times: user 1.05 ms, sys: 10 µs, total: 1.06 ms\n",
            "Wall time: 1.48 ms\n"
          ],
          "name": "stdout"
        }
      ]
    },
    {
      "cell_type": "markdown",
      "metadata": {
        "id": "S3L4FKoG3w68",
        "colab_type": "text"
      },
      "source": [
        "Wall time is the actual time, usually measured in seconds, that a program takes to run or to execute its assigned tasks. <br>\n",
        "*Reference*:\n",
        "https://whatis.techtarget.com/definition/wall-time-real-world-time-or-wall-clock-time"
      ]
    },
    {
      "cell_type": "code",
      "metadata": {
        "id": "5v7DwPbKIUMt",
        "colab_type": "code",
        "outputId": "0f3cf874-9a89-47bc-ef3e-3a999e4a9271",
        "colab": {
          "base_uri": "https://localhost:8080/"
        }
      },
      "source": [
        "%%html\n",
        "<marquee style='width: 80%; color: blue;'><b>Whee!</b></marquee>"
      ],
      "execution_count": 0,
      "outputs": [
        {
          "output_type": "display_data",
          "data": {
            "text/html": [
              "<marquee style='width: 80%; color: blue;'><b>Whee!</b></marquee>"
            ],
            "text/plain": [
              "<IPython.core.display.HTML object>"
            ]
          },
          "metadata": {
            "tags": []
          }
        }
      ]
    },
    {
      "cell_type": "markdown",
      "metadata": {
        "id": "CO2TpMkBD8qa",
        "colab_type": "text"
      },
      "source": [
        "## Introduction: Showcase of Research Data"
      ]
    },
    {
      "cell_type": "markdown",
      "metadata": {
        "id": "uAaytqvGItjm",
        "colab_type": "text"
      },
      "source": [
        "**Step1** (Not long-form data): Data prepared for calculation step. "
      ]
    },
    {
      "cell_type": "code",
      "metadata": {
        "id": "s5miCmSQ5vHK",
        "colab_type": "code",
        "colab": {}
      },
      "source": [
        "# Loading numpy file from Python2 under Python3 environment\n",
        "step1_data = np.load(loaddir+'climate_data/USM00070026_2015_cape.npy',allow_pickle=True,encoding='latin1').tolist()\n",
        "#print(step1_data.keys())\n",
        "df_era_cape = pd.DataFrame.from_records(step1_data['era'])\n",
        "#df_era_cape.head()"
      ],
      "execution_count": 0,
      "outputs": []
    },
    {
      "cell_type": "markdown",
      "metadata": {
        "id": "0GzqPc2KKgkx",
        "colab_type": "text"
      },
      "source": [
        "**Step2** (Long-form data): Data prepared for analysis. Calculation can compress the irrelevant data to some simple values. "
      ]
    },
    {
      "cell_type": "code",
      "metadata": {
        "id": "S7Nycd_ljauj",
        "colab_type": "code",
        "colab": {}
      },
      "source": [
        "df = pd.read_csv(loaddir+'climate_data/all_cape_long_form.csv',index_col=0)\n",
        "#df.head(20)"
      ],
      "execution_count": 0,
      "outputs": []
    },
    {
      "cell_type": "markdown",
      "metadata": {
        "id": "Y-MV778eKUKz",
        "colab_type": "text"
      },
      "source": [
        "\n",
        "\n",
        "---\n",
        "\n",
        "\n",
        "\n",
        "---\n",
        "\n",
        "\n",
        "\n",
        "---\n",
        "\n",
        "\n",
        "\n",
        "---\n",
        "\n"
      ]
    },
    {
      "cell_type": "markdown",
      "metadata": {
        "id": "yxE5oilWGos_",
        "colab_type": "text"
      },
      "source": [
        "# Day 1: Numpy & Gridded Data"
      ]
    },
    {
      "cell_type": "markdown",
      "metadata": {
        "id": "HBuLzm2eNZA_",
        "colab_type": "text"
      },
      "source": [
        "Goals of this section: \n",
        "\n",
        "1.   Introducing numpy: Initializing array and ndarray. \n",
        "2.   Processing data from different sources (csv, npy, netcdf, HDF5).\n",
        "3.   Numpy built-in functions. \n",
        "3.   End-of-class practice: Calculate mean and anomaly along certain dimensions (time/spatial). \n",
        "\n",
        "\n",
        "A good example to follow for introduction to numpy: <br> \n",
        "https://notebooks.azure.com/wesm/projects/python-for-data-analysis/html/appa.ipynb\n",
        "\n"
      ]
    },
    {
      "cell_type": "markdown",
      "metadata": {
        "id": "S5YOGKNmJBJc",
        "colab_type": "text"
      },
      "source": [
        "\n",
        "\n",
        "**Tip: Initalization of arrays is always the slowest step. Minimize how many times you are creating arrays.** --> manipulate and write-to arrays whenever possible\n",
        "\n",
        "numpy arrays are '0' indexed (the first item, dimension, etc. is the zeroth item)\n",
        "\n",
        "\n",
        "\n"
      ]
    },
    {
      "cell_type": "markdown",
      "metadata": {
        "id": "EZvpNex0ueX9",
        "colab_type": "text"
      },
      "source": [
        "## Initializing array"
      ]
    },
    {
      "cell_type": "markdown",
      "metadata": {
        "id": "PvvpklMAy9gd",
        "colab_type": "text"
      },
      "source": [
        "1. Make a numpy array full of zeros/ones. \n",
        "print(np.zeros((10)))\n",
        "print(np.ones((10)))\n",
        "\n",
        "2. Make a ndarray full of zeros/ones/np.nan.\n",
        "a = np.zeros((3,3))\n",
        "a.fill(np.nan)\n",
        "\n",
        "3. Initialize an array of integers placed in ascending order. "
      ]
    },
    {
      "cell_type": "code",
      "metadata": {
        "id": "oOvJjbR1n87Q",
        "colab_type": "code",
        "outputId": "e3d7f0c8-6b42-4d5d-9b3e-1cea0a9318de",
        "colab": {
          "base_uri": "https://localhost:8080/",
          "height": 34
        }
      },
      "source": [
        "# Create Arrays\n",
        "a = np.ones((5,10),dtype=int)\n",
        "a.dtype\n"
      ],
      "execution_count": 0,
      "outputs": [
        {
          "output_type": "execute_result",
          "data": {
            "text/plain": [
              "dtype('int64')"
            ]
          },
          "metadata": {
            "tags": []
          },
          "execution_count": 10
        }
      ]
    },
    {
      "cell_type": "code",
      "metadata": {
        "id": "f8Z-_yTluPZ1",
        "colab_type": "code",
        "outputId": "7c78287d-cf04-4326-ea8e-40b837fa7de3",
        "colab": {
          "base_uri": "https://localhost:8080/",
          "height": 34
        }
      },
      "source": [
        "# np.linspace\n",
        "np.linspace(0,9,10)\n",
        "#Use dtype to change the output format, default is float\n",
        "print(np.linspace(0,9,10,dtype=int))\n",
        "\n"
      ],
      "execution_count": 0,
      "outputs": [
        {
          "output_type": "stream",
          "text": [
            "[0 1 2 3 4 5 6 7 8 9]\n"
          ],
          "name": "stdout"
        }
      ]
    },
    {
      "cell_type": "code",
      "metadata": {
        "id": "TT1tDXM0f36V",
        "colab_type": "code",
        "outputId": "8cf0f941-b854-45c5-9159-3a0c160fa09d",
        "colab": {
          "base_uri": "https://localhost:8080/",
          "height": 51
        }
      },
      "source": [
        "\n",
        "# np.arange\n",
        "# arange starts at zero by default\n",
        "print(np.arange(5))\n",
        "print(np.arange(0,10,dtype=float))"
      ],
      "execution_count": 0,
      "outputs": [
        {
          "output_type": "stream",
          "text": [
            "[0 1 2 3 4]\n",
            "[0. 1. 2. 3. 4. 5. 6. 7. 8. 9.]\n"
          ],
          "name": "stdout"
        }
      ]
    },
    {
      "cell_type": "code",
      "metadata": {
        "id": "_ip8FgWSGfgZ",
        "colab_type": "code",
        "outputId": "31d4c4d9-ad02-4d23-f2de-5d817c180288",
        "colab": {
          "base_uri": "https://localhost:8080/",
          "height": 221
        }
      },
      "source": [
        "#Construct a array\n",
        "print(np.zeros((10)))\n",
        "print(np.ones((10)))\n",
        "\n",
        "#Construct a ndarray\n",
        "print('Construct 3x3 ndarray')\n",
        "print(np.zeros((3,3)))\n",
        "\n",
        "#Equivalent to\n",
        "a = np.zeros(10)\n",
        "print('Before Filling with any specified element: ')\n",
        "print(a)\n",
        "a.fill(np.nan)\n",
        "print('Before Filling with 1: ')\n",
        "print(a)\n",
        "\n",
        "#Initialize array with np.nan values\n",
        "a.fill(np.nan)\n",
        "print('Initialize array with np.nan: ')\n",
        "print(a)"
      ],
      "execution_count": 0,
      "outputs": [
        {
          "output_type": "stream",
          "text": [
            "[0. 0. 0. 0. 0. 0. 0. 0. 0. 0.]\n",
            "[1. 1. 1. 1. 1. 1. 1. 1. 1. 1.]\n",
            "Construct 3x3 ndarray\n",
            "[[0. 0. 0.]\n",
            " [0. 0. 0.]\n",
            " [0. 0. 0.]]\n",
            "Before Filling with any specified element: \n",
            "[0. 0. 0. 0. 0. 0. 0. 0. 0. 0.]\n",
            "Before Filling with 1: \n",
            "[nan nan nan nan nan nan nan nan nan nan]\n",
            "Initialize array with np.nan: \n",
            "[nan nan nan nan nan nan nan nan nan nan]\n"
          ],
          "name": "stdout"
        }
      ]
    },
    {
      "cell_type": "code",
      "metadata": {
        "id": "abXTPAwhgpNm",
        "colab_type": "code",
        "outputId": "f63d2506-7c2c-405e-9c42-221b02c8dc82",
        "colab": {
          "base_uri": "https://localhost:8080/",
          "height": 51
        }
      },
      "source": [
        "#Initialize array with np.nan values\n",
        "a = np.zeros(10)\n",
        "a.fill(np.nan)\n",
        "print('Initialize array with np.nan: ')\n",
        "print(a)\n"
      ],
      "execution_count": 0,
      "outputs": [
        {
          "output_type": "stream",
          "text": [
            "Initialize array with np.nan: \n",
            "[nan nan nan nan nan nan nan nan nan nan]\n"
          ],
          "name": "stdout"
        }
      ]
    },
    {
      "cell_type": "code",
      "metadata": {
        "id": "_d8_GfVhsDXQ",
        "colab_type": "code",
        "outputId": "da32974b-d362-4f3e-d6db-646070fbdc27",
        "colab": {
          "base_uri": "https://localhost:8080/",
          "height": 300
        }
      },
      "source": [
        "# Initializing a random matrix with specified dimensions\n",
        "# np.random.randn: Return a sample (or samples) from the “standard normal” distribution.\n",
        "a = np.random.randn(5,2)\n",
        "a\n",
        "\n",
        "first, second, thrid = np.split(a, [1,3])\n",
        "print('This is the first part')\n",
        "print(first)\n",
        "print('This is the second part')\n",
        "print(second)\n",
        "print('This is the third part')\n",
        "print(third)"
      ],
      "execution_count": 0,
      "outputs": [
        {
          "output_type": "stream",
          "text": [
            "This is the first part\n",
            "[[1.52267581 1.22357696]]\n",
            "This is the second part\n",
            "[[ 0.02198187 -1.31810598]\n",
            " [-0.70440922 -0.06171276]]\n",
            "This is the third part\n"
          ],
          "name": "stdout"
        },
        {
          "output_type": "error",
          "ename": "NameError",
          "evalue": "ignored",
          "traceback": [
            "\u001b[0;31m---------------------------------------------------------------------------\u001b[0m",
            "\u001b[0;31mNameError\u001b[0m                                 Traceback (most recent call last)",
            "\u001b[0;32m<ipython-input-15-f9fbade9b6d2>\u001b[0m in \u001b[0;36m<module>\u001b[0;34m()\u001b[0m\n\u001b[1;32m      8\u001b[0m \u001b[0mprint\u001b[0m\u001b[0;34m(\u001b[0m\u001b[0msecond\u001b[0m\u001b[0;34m)\u001b[0m\u001b[0;34m\u001b[0m\u001b[0;34m\u001b[0m\u001b[0m\n\u001b[1;32m      9\u001b[0m \u001b[0mprint\u001b[0m\u001b[0;34m(\u001b[0m\u001b[0;34m'This is the third part'\u001b[0m\u001b[0;34m)\u001b[0m\u001b[0;34m\u001b[0m\u001b[0;34m\u001b[0m\u001b[0m\n\u001b[0;32m---> 10\u001b[0;31m \u001b[0mprint\u001b[0m\u001b[0;34m(\u001b[0m\u001b[0mthird\u001b[0m\u001b[0;34m)\u001b[0m\u001b[0;34m\u001b[0m\u001b[0;34m\u001b[0m\u001b[0m\n\u001b[0m",
            "\u001b[0;31mNameError\u001b[0m: name 'third' is not defined"
          ]
        }
      ]
    },
    {
      "cell_type": "markdown",
      "metadata": {
        "id": "BhuuDp4yukpS",
        "colab_type": "text"
      },
      "source": [
        "Check data type; size and shape of np arrays. \n",
        "\n",
        "\n",
        "1.   type()\n",
        "2.   np.shape()\n",
        "3.   np.size()/len()\n",
        "\n"
      ]
    },
    {
      "cell_type": "code",
      "metadata": {
        "id": "6Z_D6eivo_Rj",
        "colab_type": "code",
        "colab": {}
      },
      "source": [
        "### Inspect arrays ###\n",
        "a = np.random.randn(5,2)\n",
        "type(a)\n"
      ],
      "execution_count": 0,
      "outputs": []
    },
    {
      "cell_type": "code",
      "metadata": {
        "id": "RIsSqeaNE6FB",
        "colab_type": "code",
        "colab": {}
      },
      "source": [
        "### Find the dimensions of your array ###\n",
        "a.shape"
      ],
      "execution_count": 0,
      "outputs": []
    },
    {
      "cell_type": "code",
      "metadata": {
        "id": "f7yNE8fSpkEF",
        "colab_type": "code",
        "colab": {}
      },
      "source": [
        "### For a list object ###\n",
        "l = [0,1,2,3]\n",
        "ll = np.array(l)\n",
        "ll"
      ],
      "execution_count": 0,
      "outputs": []
    },
    {
      "cell_type": "markdown",
      "metadata": {
        "id": "1pjZpy0qvTaV",
        "colab_type": "text"
      },
      "source": [
        "Converting a list from and to numpy.\n"
      ]
    },
    {
      "cell_type": "code",
      "metadata": {
        "id": "62OlA_tOvc5q",
        "colab_type": "code",
        "colab": {}
      },
      "source": [
        "# Convert the ndarray back to list\n",
        "del l\n",
        "l = list(ll)\n",
        "l"
      ],
      "execution_count": 0,
      "outputs": []
    },
    {
      "cell_type": "markdown",
      "metadata": {
        "id": "tM0dK-24_qMz",
        "colab_type": "text"
      },
      "source": [
        "## Slicing numpy array\n"
      ]
    },
    {
      "cell_type": "markdown",
      "metadata": {
        "id": "I3B_EqC8gwZe",
        "colab_type": "text"
      },
      "source": [
        "Use colon to slice array.\n",
        "\n",
        "*   Keep all elements (Use colon along).\n",
        "*   Explicitly specify start and end element.\n",
        "*   Specify the step/increment. \n",
        "\n",
        "\n",
        "\n",
        "\n"
      ]
    },
    {
      "cell_type": "code",
      "metadata": {
        "id": "Ewf3oip4pydO",
        "colab_type": "code",
        "colab": {}
      },
      "source": [
        "# Slicing arrays\n",
        "arr = np.arange((12))\n",
        "a = np.arange((12)).reshape((6,2))\n",
        "a[1:5,:]\n",
        "#print(arr[0:8:2])\n"
      ],
      "execution_count": 0,
      "outputs": []
    },
    {
      "cell_type": "code",
      "metadata": {
        "id": "ltf8AjwEkY1E",
        "colab_type": "code",
        "colab": {}
      },
      "source": [
        "\n",
        "# Specifying starting element and increment\n",
        "# !!! Explain the double colon !!!\n",
        "a[[1,3,4],:]\n",
        "loc = np.where(a > 4)\n",
        "a[loc]\n",
        "# Slice the last elements \n"
      ],
      "execution_count": 0,
      "outputs": []
    },
    {
      "cell_type": "markdown",
      "metadata": {
        "id": "BEJFKBF2ijmK",
        "colab_type": "text"
      },
      "source": [
        "Reverse the array: \n",
        "\n",
        "*   Use np.flip\n",
        "*   Use ::-1\n",
        "\n"
      ]
    },
    {
      "cell_type": "code",
      "metadata": {
        "id": "spxV-3gA_tlP",
        "colab_type": "code",
        "colab": {}
      },
      "source": [
        "#Reverse the array\n",
        "print(arr[::-1])\n",
        "print(np.flip(arr))\n",
        "\n"
      ],
      "execution_count": 0,
      "outputs": []
    },
    {
      "cell_type": "markdown",
      "metadata": {
        "id": "8uK-WRTLixGN",
        "colab_type": "text"
      },
      "source": [
        "Slice the array using customized conditions"
      ]
    },
    {
      "cell_type": "code",
      "metadata": {
        "id": "lcLhosoXi1wa",
        "colab_type": "code",
        "colab": {}
      },
      "source": [
        "#Pick out the ones that are odd numbers\n",
        "loc = (arr % 2 == 1)\n",
        "print(arr[(arr % 2 == 0)])\n",
        "#Pick out the ones larger than certain number\n",
        "print(arr[np.where(arr > 3)])"
      ],
      "execution_count": 0,
      "outputs": []
    },
    {
      "cell_type": "markdown",
      "metadata": {
        "id": "hHRmdmACHePw",
        "colab_type": "text"
      },
      "source": [
        "## Reading in Data: numpy, csv, netcdf (hdf5), png, tiff"
      ]
    },
    {
      "cell_type": "markdown",
      "metadata": {
        "id": "OzXTOzyAOeiA",
        "colab_type": "text"
      },
      "source": [
        "Reading and saving in npy form."
      ]
    },
    {
      "cell_type": "code",
      "metadata": {
        "id": "K6VnALy3Od0k",
        "colab_type": "code",
        "colab": {}
      },
      "source": [
        "### For npy ###\n",
        "# Save data to npy form\n",
        "arr = np.arange(12).reshape((4,3))\n",
        "np.save(os.path.join(loaddir,'test_save.npy'),arr)\n",
        "#p.save(homedir+'test_save.npy',arr)"
      ],
      "execution_count": 0,
      "outputs": []
    },
    {
      "cell_type": "code",
      "metadata": {
        "id": "tkCoDjs6O30d",
        "colab_type": "code",
        "colab": {}
      },
      "source": [
        "# Try to load the data\n",
        "del arr\n",
        "arr = np.load(homedir+'test_save.npy')\n",
        "arr"
      ],
      "execution_count": 0,
      "outputs": []
    },
    {
      "cell_type": "code",
      "metadata": {
        "id": "Qe8BDhelHK4V",
        "colab_type": "code",
        "colab": {}
      },
      "source": [
        "### For HDF5 ###\n",
        "filename1 = 'Monthly_temperature_climate_model_CCSM4.nc4'\n",
        "data = h5py.File(os.path.join(loaddir+'climate_data/',filename1),'r')\n",
        "# Show keys of loaded file\n",
        "#print(list(data.keys()))\n",
        "\n",
        "### For netcdf ###\n",
        "# Please use netCDF4 (Dataset) if you want to use reanalysis \n",
        "f = Dataset(loaddir+'reanalysis_data/era5_global_201507.nc','r')\n",
        "# Print all keywords\n",
        "#print(f)\n",
        "#lon = f.variables['longitude']\n",
        "#lat = f.variables['latitude']\n",
        "\n",
        "### For jpg & png ###\n",
        "face = imageio.imread(loaddir+'climate_data/temperture_color.png')\n",
        "plt.imshow(face)\n",
        "plt.show()\n",
        "plt.axis('off')\n",
        "\n",
        "### For tiff ###\n",
        "img = io.imread(loaddir+'crop_data/maize_tiff/maize_DataQuality_HarvestedArea.tif')\n",
        "#img = io.imread(loaddir+'NDVI.tif')\n",
        "plt.imshow(img, cmap='gray')\n",
        "plt.axis('off')"
      ],
      "execution_count": 0,
      "outputs": []
    },
    {
      "cell_type": "markdown",
      "metadata": {
        "id": "ihLY9dzl-CD3",
        "colab_type": "text"
      },
      "source": [
        "Read example csv file from sample data (California Housing datset). "
      ]
    },
    {
      "cell_type": "code",
      "metadata": {
        "id": "E2Yp2q7D9lG4",
        "colab_type": "code",
        "colab": {}
      },
      "source": [
        "# Read csv files\n",
        "filename = '/content/sample_data/california_housing_test.csv'\n",
        "data = pd.read_csv(filename,sep=',') #nrows, index_col (Discuss later), \n",
        "data"
      ],
      "execution_count": 0,
      "outputs": []
    },
    {
      "cell_type": "markdown",
      "metadata": {
        "id": "DXz0Zrji_Ho5",
        "colab_type": "text"
      },
      "source": [
        "Getting data from url (Github here):"
      ]
    },
    {
      "cell_type": "code",
      "metadata": {
        "id": "CcyryV998Lt7",
        "colab_type": "code",
        "colab": {}
      },
      "source": [
        "url = 'https://raw.githubusercontent.com/python-visualization/folium/master/examples/data'\n",
        "state_geo = f'{url}/us-states.json'\n",
        "state_unemployment = f'{url}/US_Unemployment_Oct2012.csv'\n",
        "state_data = pd.read_csv(state_unemployment)\n",
        "state_data\n"
      ],
      "execution_count": 0,
      "outputs": []
    },
    {
      "cell_type": "markdown",
      "metadata": {
        "id": "NcF0n6LUu7aG",
        "colab_type": "text"
      },
      "source": [
        "## Exercise: numpy operation \n",
        "1. load in 'era5_land_201501_2x2.nc', located under loaddir+'reanalysis_data/'\n",
        "2. print last 10 items (slice the array)\n",
        "3. print the mean values of selected variable: Time mean (array of 2D map); Spatial mean (array of time series)\n",
        "\n"
      ]
    },
    {
      "cell_type": "code",
      "metadata": {
        "id": "qI-FmeBcvQpD",
        "colab_type": "code",
        "colab": {}
      },
      "source": [
        "## blank cell\n",
        "data  = Dataset(loaddir+'reanalysis_data/era5_land_201501_2x2.nc','r')\n",
        "t2m = data.variables['t2m']\n",
        "print(np.shape(t2m))\n",
        "print(t2m[-1,:,:])\n"
      ],
      "execution_count": 0,
      "outputs": []
    },
    {
      "cell_type": "markdown",
      "metadata": {
        "id": "En_JskKFed_3",
        "colab_type": "text"
      },
      "source": [
        "## Concatenating Arrays"
      ]
    },
    {
      "cell_type": "code",
      "metadata": {
        "id": "DGy8FsuEIhij",
        "colab_type": "code",
        "colab": {}
      },
      "source": [
        "arr1 = [0,1,2]\n",
        "arr2 = [3,4,5]\n",
        "# np.hstack\n",
        "print('Stack arrays in sequence horizontally (column wise).')\n",
        "#np.hstack([arr1,arr2])\n",
        "\n",
        "# np.vstack and np.stack(..., axis=0)\n",
        "print('Stack arrays in sequence vertically (row wise).')\n",
        "np.stack([arr1,arr2],axis=1)"
      ],
      "execution_count": 0,
      "outputs": []
    },
    {
      "cell_type": "markdown",
      "metadata": {
        "id": "fTR_5_pZM3tc",
        "colab_type": "text"
      },
      "source": [
        "### Looping through a directory"
      ]
    },
    {
      "cell_type": "code",
      "metadata": {
        "id": "n7L2vkaOMzJ9",
        "colab_type": "code",
        "colab": {}
      },
      "source": [
        "rootdir = loaddir+'crop_data/yield_simulations/'\n",
        "filelist  = os.listdir(rootdir)\n",
        "files     = fnmatch.filter(filelist, '*W0*.nc4')\n",
        "\n",
        "Y = np.zeros((len(files),360,720)) # most geospatial data is [time, lat, lon] or [time, y, x]\n",
        "for i,myfile in enumerate(files): \n",
        "for myfile in files:\n",
        "    filepath = '%s/%s'%(rootdir,myfile)\n",
        "    y = h5py.File(filepath,'r')['yield_mai']\n",
        "    Y[i,:,:] = np.ma.mean(y[1:30,:,:], axis=0)\n",
        "\n",
        "np.where(Y[0,:,:] < 1000)"
      ],
      "execution_count": 0,
      "outputs": []
    },
    {
      "cell_type": "markdown",
      "metadata": {
        "id": "zACPfOmob-oT",
        "colab_type": "text"
      },
      "source": [
        "## Time saving methods (multi-processing and cython)"
      ]
    },
    {
      "cell_type": "markdown",
      "metadata": {
        "id": "Ee5YlOn9tPDq",
        "colab_type": "text"
      },
      "source": [
        "One of the slowest operations of any data analysis is opening files. "
      ]
    },
    {
      "cell_type": "code",
      "metadata": {
        "id": "5aYNDfFWU9kC",
        "colab_type": "code",
        "colab": {}
      },
      "source": [
        "def useless(T):\n",
        "    rootdir = '/content/drive/My Drive/cfr_bootcamp/Data/crop_data/yield_simulations'\n",
        "    f = h5py.File(rootdir+'/pdssat_agmerra_fullharm_yield_mai_global_annual_1980_2010_C360_T'+T+'_W0_N200_A0.nc4','r')\n",
        "    a = f['yield_mai'][:]#.filled(0)\n",
        "    a_sum = 0\n",
        "    for i in range(a.shape[0]):\n",
        "        for j in range(a.shape[1]):\n",
        "            for n in range(a.shape[2]):\n",
        "                a_sum = a_sum+a[i,j,n]\n",
        "    #a_cum.tofile(T+'.bin')\n",
        "    print(T)\n",
        "    return a_sum"
      ],
      "execution_count": 0,
      "outputs": []
    },
    {
      "cell_type": "code",
      "metadata": {
        "id": "5yqqxpyqXEoI",
        "colab_type": "code",
        "colab": {}
      },
      "source": [
        "%%time\n",
        "T = ['-1','0','1','2','3','4','6']\n",
        "for tt in T: y = useless(tt)\n",
        "  "
      ],
      "execution_count": 0,
      "outputs": []
    },
    {
      "cell_type": "markdown",
      "metadata": {
        "id": "GG_YF12gmFou",
        "colab_type": "text"
      },
      "source": [
        "Install and load cython package first. "
      ]
    },
    {
      "cell_type": "code",
      "metadata": {
        "id": "0hB8v6gWCdB0",
        "colab_type": "code",
        "colab": {}
      },
      "source": [
        "#!pip install cython\n",
        "%load_ext Cython"
      ],
      "execution_count": 0,
      "outputs": []
    },
    {
      "cell_type": "markdown",
      "metadata": {
        "id": "_XGr8YGfRRAb",
        "colab_type": "text"
      },
      "source": [
        "Use cython with data type of variables specifically defined. "
      ]
    },
    {
      "cell_type": "code",
      "metadata": {
        "id": "SJYToQjxU9tq",
        "colab_type": "code",
        "colab": {}
      },
      "source": [
        "%%cython\n",
        "import h5py\n",
        "\n",
        "def useless_cython(T):\n",
        "    # define types of variables for optimization\n",
        "    cdef int i, j, n\n",
        "    cdef double a_cum\n",
        "    ############################################\n",
        "\n",
        "    rootdir = '/content/drive/My Drive/cfr_bootcamp/Data/crop_data/yield_simulations'\n",
        "    f = h5py.File(rootdir+'/pdssat_agmerra_fullharm_yield_mai_global_annual_1980_2010_C360_T'+T+'_W0_N200_A0.nc4','r')\n",
        "    a = f['yield_mai'][:]\n",
        "    a_sum = 0\n",
        "    for i in range(a.shape[0]):\n",
        "        for j in range(a.shape[1]):\n",
        "            for n in range(a.shape[2]):\n",
        "                a_sum = a_sum+a[i,j,n]\n",
        "    #a_cum.tofile(T+'.bin')\n",
        "    print(T)\n",
        "    return a_sum"
      ],
      "execution_count": 0,
      "outputs": []
    },
    {
      "cell_type": "code",
      "metadata": {
        "id": "EvL847uyUilT",
        "colab_type": "code",
        "colab": {}
      },
      "source": [
        "%%time\n",
        "T = ['-1','0','1','2','3','4','6']\n",
        "for tt in T: y = useless_cython(tt)"
      ],
      "execution_count": 0,
      "outputs": []
    },
    {
      "cell_type": "markdown",
      "metadata": {
        "id": "FhcJu6ZD93th",
        "colab_type": "text"
      },
      "source": [
        "One snapshot of time comsumption.\n",
        "\n",
        "*   Python: 18.2s.\n",
        "*   Multiprocessing: 19.6s. (Removed now)\n",
        "*   Cython: 17.2s.\n",
        "\n",
        "\n",
        "\n",
        "\n",
        "**Conclusion:** For the example shown above, using cython saves about 10% of time it takes to load and finish specified calculation of several nc files.  <br>\n",
        "I have tested on a larger research project with cython vs python, it can improve computational efficiency by 20% for a wrf-python package function.\n"
      ]
    },
    {
      "cell_type": "markdown",
      "metadata": {
        "id": "7uDZP_NTGzsQ",
        "colab_type": "text"
      },
      "source": [
        "## Time saving in numpy (avoiding for-loops)"
      ]
    },
    {
      "cell_type": "markdown",
      "metadata": {
        "id": "Q8n5XQxBQkBm",
        "colab_type": "text"
      },
      "source": [
        "### 1. Use the built-in numpy functions\n",
        "All the built-in functions in numpy (too many to count) are each essentially to save a for loop... and are almost always the fastest way to do your operation.\n",
        "\n",
        "1. sum/standard deviation/mean\n",
        "2. difference\n",
        "3. quantiles\n",
        "4. sort\n",
        "\n",
        "Example in this section make code run faster (any tricks possible)"
      ]
    },
    {
      "cell_type": "code",
      "metadata": {
        "id": "KzGbe_fGBVw8",
        "colab_type": "code",
        "colab": {}
      },
      "source": [
        "# Print the array we initialized before\n",
        "arr = np.arange(12).reshape((4,3))\n",
        "arr\n",
        "# Start exploring numpy built-in functions\n",
        "# 1. np.sum\n",
        "\n",
        "# 2. np.std\n",
        "\n",
        "# axis = 0; axis = 1\n",
        "\n"
      ],
      "execution_count": 0,
      "outputs": []
    },
    {
      "cell_type": "code",
      "metadata": {
        "id": "zxWrjQig0EOf",
        "colab_type": "code",
        "colab": {}
      },
      "source": [
        "arr = np.asarray(arr,dtype=float)\n",
        "# mask out some elements to np.nan\n",
        "arr[3,:] = np.nan\n",
        "# 3. np.mean/np.nanmean \n",
        "\n"
      ],
      "execution_count": 0,
      "outputs": []
    },
    {
      "cell_type": "code",
      "metadata": {
        "id": "3xnBCT-4Hm8-",
        "colab_type": "code",
        "colab": {}
      },
      "source": [
        "# np.difference \n",
        "np.diff(arr,axis=0) # axis=0: difference row-wise; axis-1: difference col-wise"
      ],
      "execution_count": 0,
      "outputs": []
    },
    {
      "cell_type": "markdown",
      "metadata": {
        "id": "Z6OpeQoaFuBd",
        "colab_type": "text"
      },
      "source": [
        "For np.quantile/np.percentile, initialize a random array with integers. "
      ]
    },
    {
      "cell_type": "code",
      "metadata": {
        "id": "3W41w-XBF3NI",
        "colab_type": "code",
        "colab": {}
      },
      "source": [
        "# Use randint for percentile\n",
        "arr = np.random.randint(10,size=11)"
      ],
      "execution_count": 0,
      "outputs": []
    },
    {
      "cell_type": "code",
      "metadata": {
        "id": "l3idsUKbEkN1",
        "colab_type": "code",
        "colab": {}
      },
      "source": [
        "print(sorted(arr))\n",
        "np.percentile(arr,20)\n",
        "# Equivalent to np.quantile (0~1)\n"
      ],
      "execution_count": 0,
      "outputs": []
    },
    {
      "cell_type": "markdown",
      "metadata": {
        "id": "OAmYL4L1yGvP",
        "colab_type": "text"
      },
      "source": [
        "Sorting the array directly and indirectly. "
      ]
    },
    {
      "cell_type": "code",
      "metadata": {
        "id": "ns_ra1_MyMOQ",
        "colab_type": "code",
        "colab": {}
      },
      "source": [
        "arr = np.random.randint(10,size=12).reshape((4, 3))\n",
        "print('Original array: ')\n",
        "print(arr)\n"
      ],
      "execution_count": 0,
      "outputs": []
    },
    {
      "cell_type": "code",
      "metadata": {
        "id": "k5NtJuGL0VH-",
        "colab_type": "code",
        "colab": {}
      },
      "source": [
        "# This will happen inplace\n",
        "arr.sort(axis=0)\n",
        "print('Array after sorting: ')\n",
        "print(arr)"
      ],
      "execution_count": 0,
      "outputs": []
    },
    {
      "cell_type": "code",
      "metadata": {
        "id": "08MybdDi0_CG",
        "colab_type": "code",
        "colab": {}
      },
      "source": [
        "# This will not affect order in arr\n",
        "arr1 = np.sort(arr,axis=1)\n",
        "arr1"
      ],
      "execution_count": 0,
      "outputs": []
    },
    {
      "cell_type": "code",
      "metadata": {
        "id": "mX5M2PWoyMZb",
        "colab_type": "code",
        "colab": {}
      },
      "source": [
        "### Sorting the array indirectly\n",
        "arr = np.array([5, 0, 1, 3, 2])\n",
        "# Sort by the index\n",
        "indexer = arr.argsort() #default is ascending\n",
        "print('The index of sorted array: ')\n",
        "print(indexer)\n",
        "print('Array sorted indirectly: ')\n",
        "print(arr[indexer])\n"
      ],
      "execution_count": 0,
      "outputs": []
    },
    {
      "cell_type": "markdown",
      "metadata": {
        "id": "kLYolF-kJskY",
        "colab_type": "text"
      },
      "source": [
        "Recall the example we did to compare python, multiprocessing and cython. Now let's replace for-loops with np.sum. "
      ]
    },
    {
      "cell_type": "code",
      "metadata": {
        "id": "JBcW6PNS_SXP",
        "colab_type": "code",
        "colab": {}
      },
      "source": [
        "# Now replace for-loop with np.sum\n",
        "def useful(T):\n",
        "    rootdir = '/content/drive/My Drive/cfr_bootcamp/Data/crop_data/yield_simulations'\n",
        "    f = h5py.File(rootdir+'/pdssat_agmerra_fullharm_yield_mai_global_annual_1980_2010_C360_T'+T+'_W0_N200_A0.nc4','r')\n",
        "    a = f['yield_mai'][:]#.filled(0)\n",
        "    a_sum = 0 #This line is kept to keep consistency with previous function\n",
        "    a_sum = np.sum(a)\n",
        "    print(T)\n",
        "    return a_sum"
      ],
      "execution_count": 0,
      "outputs": []
    },
    {
      "cell_type": "code",
      "metadata": {
        "id": "U0Rfh2RG_pPv",
        "colab_type": "code",
        "colab": {}
      },
      "source": [
        "%%time\n",
        "T = ['-1','0','1','2','3','4','6']\n",
        "for tt in T: y = useful(tt)"
      ],
      "execution_count": 0,
      "outputs": []
    },
    {
      "cell_type": "markdown",
      "metadata": {
        "id": "OBqmThUeBArw",
        "colab_type": "text"
      },
      "source": [
        "**Conclusion**: Using numpy built-in functions could save you a lot of time. "
      ]
    },
    {
      "cell_type": "markdown",
      "metadata": {
        "id": "4SPMyavOQu8A",
        "colab_type": "text"
      },
      "source": [
        "### 2. Use np.tile or np.repeat"
      ]
    },
    {
      "cell_type": "code",
      "metadata": {
        "id": "4LaMpBxzHIGd",
        "colab_type": "code",
        "colab": {}
      },
      "source": [
        "arr = np.arange((12)).reshape((4,3))\n",
        "print(arr)\n",
        "\n",
        "row_mean = np.mean(arr,axis=1)\n",
        "print(row_mean)"
      ],
      "execution_count": 0,
      "outputs": []
    },
    {
      "cell_type": "markdown",
      "metadata": {
        "id": "-qdjwUEiZ5LR",
        "colab_type": "text"
      },
      "source": [
        "Here are examples of ndarray computation: The dimensions have to match. "
      ]
    },
    {
      "cell_type": "code",
      "metadata": {
        "id": "ifxlpWdgt705",
        "colab_type": "code",
        "colab": {}
      },
      "source": [
        "# To add a newaxis at specified position\n",
        "arr_3d = arr[:, np.newaxis, :]\n",
        "arr_3d.shape\n"
      ],
      "execution_count": 0,
      "outputs": []
    },
    {
      "cell_type": "code",
      "metadata": {
        "id": "OPjMc7C4aDeg",
        "colab_type": "code",
        "colab": {}
      },
      "source": [
        "# The following line will produce an error\n",
        "#print(arr - row_mean)\n",
        "# Instead, use np.newaxis when the broadcasting confuses the program.\n",
        "print(arr - row_mean[:,np.newaxis])\n",
        "\n",
        "#The following is one standard way with np.repeat (Above line is suggested)\n",
        "print('Anomaly along the second dimension: ')\n",
        "anom_matrix = arr - np.repeat(row_mean[:,np.newaxis],3,axis=1) # repeat for 3 times, axis = 1\n",
        "print(anom_matrix)\n"
      ],
      "execution_count": 0,
      "outputs": []
    },
    {
      "cell_type": "markdown",
      "metadata": {
        "id": "cQqhi-TobyET",
        "colab_type": "text"
      },
      "source": [
        "See example from numpy.tile: \n",
        "https://docs.scipy.org/doc/numpy/reference/generated/numpy.tile.html\n",
        "<br>\n",
        "np.tile(A,reps)\n",
        "<br>\n",
        "reps: The number of repetitions of A along each axis. <br>\n",
        "Note: If A.ndim > d, reps is promoted to A.ndim by pre-pending 1’s to it. Thus for an A of shape (2, 3, 4, 5), a reps of (2, 2) is treated as (1, 1, 2, 2)."
      ]
    },
    {
      "cell_type": "code",
      "metadata": {
        "id": "f_594kxxHKm2",
        "colab_type": "code",
        "colab": {}
      },
      "source": [
        "b = np.array([[1, 2], [3, 4]])\n",
        "# Repeat b in the second dimension twice (col-wise)\n",
        "print(np.tile(b,2))\n",
        "# The above line is equivalent to the following\n",
        "#print(np.tile(b,(1,2)))\n",
        "\n",
        "# Repeat b in the first dimension twice (row-wise)\n",
        "print(np.tile(b,(2,1)))"
      ],
      "execution_count": 0,
      "outputs": []
    },
    {
      "cell_type": "markdown",
      "metadata": {
        "id": "cSWbiPaMnRDG",
        "colab_type": "text"
      },
      "source": [
        "Calculate anomaly with np.tile"
      ]
    },
    {
      "cell_type": "code",
      "metadata": {
        "id": "0aGt4HqHnX__",
        "colab_type": "code",
        "colab": {}
      },
      "source": [
        "#The following is one standard way with np.tile\n",
        "print('Anomaly along the second dimension: ')\n",
        "anom_matrix = arr - np.tile(row_mean,(3,1)).T # repeat for 3 times, axis = 1\n",
        "print(anom_matrix)\n",
        "#Alternatively\n",
        "print('Alternatively, transpose before using np.tile')\n",
        "print(np.shape(row_mean))\n",
        "print(np.shape(row_mean.reshape((4,1))))\n",
        "anom_matrix = arr - np.tile(row_mean.reshape((4,1)),3) # repeat for 3 times, axis = 1\n",
        "print(anom_matrix)"
      ],
      "execution_count": 0,
      "outputs": []
    },
    {
      "cell_type": "markdown",
      "metadata": {
        "id": "HXZgGHEJQ1ZE",
        "colab_type": "text"
      },
      "source": [
        "### 3. Use list comprehension, lambda functions, or map()"
      ]
    },
    {
      "cell_type": "markdown",
      "metadata": {
        "id": "AVB2X5cLxGMg",
        "colab_type": "text"
      },
      "source": [
        "Compare for-loop and list comprehension. "
      ]
    },
    {
      "cell_type": "code",
      "metadata": {
        "id": "tqwihWA7HKsu",
        "colab_type": "code",
        "colab": {}
      },
      "source": [
        "# old way \n",
        "%%time\n",
        "old_list = [0,1,2,3,4,5]\n",
        "new_list = []\n",
        "for i in old_list:\n",
        "    if i > 2: #filter(i)\n",
        "        new_list.append(i)\n",
        "print(new_list)\n",
        "        \n"
      ],
      "execution_count": 0,
      "outputs": []
    },
    {
      "cell_type": "code",
      "metadata": {
        "id": "zjk2BtOKw47n",
        "colab_type": "code",
        "colab": {}
      },
      "source": [
        "# List comprehension\n",
        "%%time\n",
        "old_list = [0,1,2,3,4,5]\n",
        "new_list=[]\n",
        "new_list = [i for i in old_list if i > 2]\n",
        "print(new_list)"
      ],
      "execution_count": 0,
      "outputs": []
    },
    {
      "cell_type": "markdown",
      "metadata": {
        "id": "8WCxYhWbxbyj",
        "colab_type": "text"
      },
      "source": [
        "**Quick conclusion**: \n",
        "One snapshot of time comsumption: <br> \n",
        "Old way (for-loop): 2.09 ms. <br>\n",
        "Pythonic way (list comprehension): 1.72 ms.\n"
      ]
    },
    {
      "cell_type": "markdown",
      "metadata": {
        "id": "seHtnUxRL2-h",
        "colab_type": "text"
      },
      "source": [
        "**Lambda functions** adopt the form of:  \n",
        "\n",
        "\n",
        "```\n",
        "lambda arguments: expression\n",
        "```\n",
        "\n"
      ]
    },
    {
      "cell_type": "code",
      "metadata": {
        "id": "-cyTg9EFPHfC",
        "colab_type": "code",
        "colab": {}
      },
      "source": [
        "(lambda x: x + 1)(2)"
      ],
      "execution_count": 0,
      "outputs": []
    },
    {
      "cell_type": "code",
      "metadata": {
        "id": "dBYu9M9GMVdv",
        "colab_type": "code",
        "colab": {}
      },
      "source": [
        "# Old way of defining a function:\n",
        "def g_old(x):\n",
        "  return x**2\n",
        "\n",
        "# Lambda function form:\n",
        "g = lambda x: x**2\n",
        "print(g(5))\n",
        "print(g_old(5))"
      ],
      "execution_count": 0,
      "outputs": []
    },
    {
      "cell_type": "code",
      "metadata": {
        "id": "Le_vTyaONnFG",
        "colab_type": "code",
        "colab": {}
      },
      "source": [
        "# Use lambda function with filter\n",
        "a = np.arange(12)\n",
        "final_list = list(filter(lambda x: (x%2 != 0) , a)) \n",
        "print(final_list) "
      ],
      "execution_count": 0,
      "outputs": []
    },
    {
      "cell_type": "code",
      "metadata": {
        "id": "QjrwJzQBRN6H",
        "colab_type": "code",
        "colab": {}
      },
      "source": [
        "# Use lambda function with map\n",
        "final_list = list(map(lambda x: (x*3+1) , a)) \n",
        "print(final_list) \n",
        "\n",
        "# Equivalent to:\n",
        "#(lambda x: (x*3+1))(a)\n"
      ],
      "execution_count": 0,
      "outputs": []
    },
    {
      "cell_type": "markdown",
      "metadata": {
        "id": "I3IQh80lH3FL",
        "colab_type": "text"
      },
      "source": [
        "## Masked Arrays"
      ]
    },
    {
      "cell_type": "markdown",
      "metadata": {
        "id": "DQ09XyACwC78",
        "colab_type": "text"
      },
      "source": [
        "When an element of the mask is False, the corresponding element of the associated array is valid and is said to be unmasked. When an element of the mask is True, the corresponding element of the associated array is said to be masked (invalid)."
      ]
    },
    {
      "cell_type": "code",
      "metadata": {
        "id": "UWK5XqZwHyHM",
        "colab_type": "code",
        "colab": {}
      },
      "source": [
        "a = np.arange(0,20,dtype=int)\n",
        "#Mask out the elements larger than 10\n",
        "a = np.ma.masked_where(a>10, a)\n",
        "\n",
        "print(a)\n",
        "print(a.data, a.mask)"
      ],
      "execution_count": 0,
      "outputs": []
    },
    {
      "cell_type": "code",
      "metadata": {
        "id": "ItnZatZL2Q8C",
        "colab_type": "code",
        "colab": {}
      },
      "source": [
        "print('Mean value of masked array a is: ')\n",
        "print(a.mean())"
      ],
      "execution_count": 0,
      "outputs": []
    },
    {
      "cell_type": "markdown",
      "metadata": {
        "id": "RTmFT8ZA2gHa",
        "colab_type": "text"
      },
      "source": [
        "Construct a mask by design: "
      ]
    },
    {
      "cell_type": "code",
      "metadata": {
        "id": "Fqw6PpMh2nyJ",
        "colab_type": "code",
        "colab": {}
      },
      "source": [
        "a = np.arange(0,20,dtype=int)\n",
        "mask = [True for i in range(20)]\n",
        "mask[0:3] = [False for i in range(3)]\n",
        "a = np.ma.masked_where(mask,a)\n",
        "a"
      ],
      "execution_count": 0,
      "outputs": []
    },
    {
      "cell_type": "code",
      "metadata": {
        "id": "hvL2EeWF2Oip",
        "colab_type": "code",
        "colab": {}
      },
      "source": [
        "# select the opposite \n",
        "a.mask == False"
      ],
      "execution_count": 0,
      "outputs": []
    },
    {
      "cell_type": "markdown",
      "metadata": {
        "id": "_AmpAIyGDReH",
        "colab_type": "text"
      },
      "source": [
        "## Practice: Calculate means and anomalies with numpy \n"
      ]
    },
    {
      "cell_type": "markdown",
      "metadata": {
        "id": "6i85V4UBDasP",
        "colab_type": "text"
      },
      "source": [
        "Take a different dataset given under loaddir+'reanalysis_data/' or 'climate_data/'\n",
        "\n",
        "> Calculate time mean and zonal mean of one surface field of your choice. <br>\n",
        "> Subset the data you have (land/ocean; latitudinal bands; time), calculate the mean with masked array. <br> \n",
        "> Calculate the anomaly. \n",
        "\n",
        "\n",
        "\n",
        "\n",
        "\n"
      ]
    },
    {
      "cell_type": "code",
      "metadata": {
        "id": "TazInstIDaT5",
        "colab_type": "code",
        "colab": {}
      },
      "source": [
        "# Read Dataset\n",
        "#Please use netCDF4 (Dataset) if you want to use reanalysis \n",
        "f = Dataset(loaddir+'reanalysis_data/era5_global_201507.nc','r')\n",
        "\n",
        "\n",
        "# Print all keywords\n",
        "print(f)\n",
        "lon = f.variables['longitude']\n",
        "lat = f.variables['latitude']\n",
        "time = f.variables['time']\n",
        "t2m = f.variables['t2m']\n",
        "land_sea_mask = f.variables['lsm'][0]\n",
        "print(land_sea_mask)\n",
        "print(lon[:10],lat[:10],time[:10])\n",
        "# Check dimensions\n",
        "np.shape(t2m)\n",
        "\n",
        "# Calculate the time mean of 2m air temperature\n",
        "t2m_time_mean = np.nanmean(t2m,axis=0)\n",
        "print('Time Mean matrix:')\n",
        "print(np.shape(t2m_time_mean))\n",
        "t2m_zonal_mean = np.nanmean(t2m,axis=2)\n",
        "print('Zonal Mean matrix:')\n",
        "print(np.shape(t2m_zonal_mean))\n",
        "\n",
        "# Land sea mask is a fractional number from 0 (sea) to 1 (land)\n",
        "print(len(np.where((land_sea_mask > 0) & (land_sea_mask <1))[0]))\n"
      ],
      "execution_count": 0,
      "outputs": []
    },
    {
      "cell_type": "code",
      "metadata": {
        "id": "Gp75KIJ-DY-y",
        "colab_type": "code",
        "colab": {}
      },
      "source": [
        "# You can take these codes and plot a time series\n",
        "nts = 124 #Total time length\n",
        "t2m_time_anom = t2m - np.repeat(t2m_time_mean[np.newaxis,:,:],nts,axis=0)\n",
        "print(np.shape(t2m_time_anom))\n",
        "\n",
        "ts = np.arange(nts)\n",
        "# We are not adding anything to the plot yet. Let's save this for visualization part.\n",
        "# We will come back to plotting on the forth day.\n",
        "plt.plot(ts,t2m_time_anom[:,0,0])\n",
        "\n",
        "\n",
        "\n"
      ],
      "execution_count": 0,
      "outputs": []
    },
    {
      "cell_type": "markdown",
      "metadata": {
        "id": "mf1S9eFdsgat",
        "colab_type": "text"
      },
      "source": [
        "Construct masked array of land/ocean at first time step (Taking only 60S to 60N). <br>\n",
        "The data has fractional values in the range 0 (sea) to 1 (land). Here we can make a simple assumption to take grids with more than 50% land as a land grid, and vice versa.  "
      ]
    },
    {
      "cell_type": "code",
      "metadata": {
        "id": "zPN4ivwxsjs0",
        "colab_type": "code",
        "colab": {}
      },
      "source": [
        "# Subset with land/ocean\n",
        "t2m_land = np.ma.masked_array(t2m[0,12:61,:], mask=(land_sea_mask[12:61,:] < 0.5)) # mask out ocean\n",
        "t2m_ocean = np.ma.masked_array(t2m[0,12:61,:], mask=(land_sea_mask[12:61,:] >= 0.5)) # mask out land\n",
        "\n",
        "print('Mean temperature over land is ' + str(round(np.nanmean(t2m_land),2)))\n",
        "print('Mean temperature over ocean is ' + str(round(np.nanmean(t2m_ocean),2)))\n",
        "\n",
        "# Temperature anomaly over land, time = 0:\n",
        "t2m_land_anom = t2m_land - np.nanmean(t2m_land)\n",
        "print(np.shape(t2m_land_anom))"
      ],
      "execution_count": 0,
      "outputs": []
    },
    {
      "cell_type": "markdown",
      "metadata": {
        "id": "6sY_ju-zKL3a",
        "colab_type": "text"
      },
      "source": [
        "\n",
        "\n",
        "---\n",
        "\n",
        "\n",
        "\n",
        "---\n",
        "\n",
        "\n",
        "\n",
        "---\n",
        "\n",
        "\n",
        "\n",
        "---\n",
        "\n"
      ]
    },
    {
      "cell_type": "markdown",
      "metadata": {
        "id": "Q9Ijv914H8MM",
        "colab_type": "text"
      },
      "source": [
        "# Day 2: Pandas"
      ]
    },
    {
      "cell_type": "markdown",
      "metadata": {
        "id": "rXKBXh7NM3nD",
        "colab_type": "text"
      },
      "source": [
        "Goals of this section: \n",
        "\n",
        "1.   Introducing pandas: Initializing pd.DataFrame. Build our examplary dataset with reanalysis.\n",
        "2.   Manipulating DataFrame (selecting columns, combining, subsetting). \n",
        "3.   End-of-class practice: Build a long-form DataFrame from gridded data. <br>\n",
        "Extra: Convert long-form back to 2D data and plot a map (with pd.pivot). \n",
        "\n"
      ]
    },
    {
      "cell_type": "markdown",
      "metadata": {
        "id": "Dx4HvTVu-EMZ",
        "colab_type": "text"
      },
      "source": [
        "Two good examples to follow to as introduction to pandas: <br>\n",
        "*10-minutes to pandas*: <br> https://pandas.pydata.org/pandas-docs/stable/getting_started/10min.html <br>\n",
        "*Python for Data Analysis, 2nd Edition* (ch05.ipynb): <br>\n",
        "https://notebooks.azure.com/wesm/projects/python-for-data-analysis\n"
      ]
    },
    {
      "cell_type": "markdown",
      "metadata": {
        "id": "A5tXpJKNISMA",
        "colab_type": "text"
      },
      "source": [
        "## Preparation before start building DataFrame"
      ]
    },
    {
      "cell_type": "markdown",
      "metadata": {
        "id": "86F-u3f8QxAX",
        "colab_type": "text"
      },
      "source": [
        "### Read netcdf data from reanalysis datasets. "
      ]
    },
    {
      "cell_type": "markdown",
      "metadata": {
        "id": "Rezltqpl4pXX",
        "colab_type": "text"
      },
      "source": [
        "Take a look at the Dataset we are going to wiork with today: "
      ]
    },
    {
      "cell_type": "code",
      "metadata": {
        "id": "4TyHK9kyQ0wL",
        "colab_type": "code",
        "outputId": "3d0a6d32-3c18-4137-956a-92dc5408b095",
        "colab": {
          "base_uri": "https://localhost:8080/",
          "height": 204
        }
      },
      "source": [
        "filename1 = 'era5_global_201501.nc'\n",
        "filename2 = 'era5_global_201507.nc'\n",
        "data1 = Dataset(os.path.join(loaddir+'reanalysis_data/',filename1),'r')\n",
        "data2 = Dataset(os.path.join(loaddir+'reanalysis_data/',filename2),'r')\n",
        "data1\n",
        "data1.variables['t2m']"
      ],
      "execution_count": 4,
      "outputs": [
        {
          "output_type": "execute_result",
          "data": {
            "text/plain": [
              "<class 'netCDF4._netCDF4.Variable'>\n",
              "int16 t2m(time, latitude, longitude)\n",
              "    scale_factor: 0.0015416944188662582\n",
              "    add_offset: 269.259101589314\n",
              "    _FillValue: -32767\n",
              "    missing_value: -32767\n",
              "    units: K\n",
              "    long_name: 2 metre temperature\n",
              "unlimited dimensions: \n",
              "current shape = (124, 73, 144)\n",
              "filling on"
            ]
          },
          "metadata": {
            "tags": []
          },
          "execution_count": 4
        }
      ]
    },
    {
      "cell_type": "markdown",
      "metadata": {
        "id": "Z_IeExUoQwA2",
        "colab_type": "text"
      },
      "source": [
        "### Managing time objects in packages\n"
      ]
    },
    {
      "cell_type": "markdown",
      "metadata": {
        "id": "i5BPY2-pYq5X",
        "colab_type": "text"
      },
      "source": [
        "**Datetime objects in netCDF4**:\n",
        "*  dt\n",
        "*  dt.year/month/day\n",
        "*  dt.strftime"
      ]
    },
    {
      "cell_type": "code",
      "metadata": {
        "id": "sVcQSM4nQ6dF",
        "colab_type": "code",
        "outputId": "506194f3-4f76-4ef8-c4d2-c7914ca3f299",
        "colab": {
          "base_uri": "https://localhost:8080/",
          "height": 85
        }
      },
      "source": [
        "import netCDF4\n",
        "time = data1.variables['time']\n",
        "time[:]\n",
        "### Do not declare the variable as datetime\n",
        "dt = netCDF4.num2date(time[:],units=time.units,calendar=time.calendar)\n",
        "\n",
        "# Print dt\n",
        "print(list(map(lambda x:x.year,dt))[:5])\n",
        "\n",
        "dt = netCDF4.num2date(time[0],units=time.units,calendar=time.calendar)\n",
        "# Note: Remember to use .day not .date\n",
        "\n",
        "# Print dt with strftime\n",
        "print(dt)\n",
        "print(dt.strftime('%m-%d-%Y %H:%M:%S'))\n",
        "type(dt)\n",
        "#print('The date is: ' + dt.strftime('%d'))\n"
      ],
      "execution_count": 23,
      "outputs": [
        {
          "output_type": "stream",
          "text": [
            "[2015, 2015, 2015, 2015, 2015]\n",
            "2015-01-01 00:00:00\n",
            "01-01-2015 00:00:00\n"
          ],
          "name": "stdout"
        },
        {
          "output_type": "execute_result",
          "data": {
            "text/plain": [
              "datetime.datetime"
            ]
          },
          "metadata": {
            "tags": []
          },
          "execution_count": 23
        }
      ]
    },
    {
      "cell_type": "markdown",
      "metadata": {
        "id": "H5GXho5IZVLW",
        "colab_type": "text"
      },
      "source": [
        "**Additional**: datetime package and timedelta function. <br> \n",
        "https://docs.python.org/2/library/datetime.html"
      ]
    },
    {
      "cell_type": "code",
      "metadata": {
        "id": "NYsmIyR8Kwt4",
        "colab_type": "code",
        "colab": {}
      },
      "source": [
        "import datetime\n",
        "\n",
        "dt = datetime.datetime(2015,1,1,0,0,0)\n",
        "dt\n",
        "dt.strftime('%Y/%m/%d %H:%M:%S')"
      ],
      "execution_count": 0,
      "outputs": []
    },
    {
      "cell_type": "markdown",
      "metadata": {
        "id": "E3rWLND0YtRB",
        "colab_type": "text"
      },
      "source": [
        "**Timestamp features in pandas**:  pd.date_range <br>\n",
        "\n",
        "\n",
        "*   Specify start and end date with form of MM/DD/YYYY or YYYYMMDD\n",
        "*   Specify start date and period (and frequency: freq = 'D')\n",
        "\n",
        "\n",
        "\n",
        "To learn more about frequency: \n",
        "http://pandas.pydata.org/pandas-docs/stable/user_guide/timeseries.html#offset-aliases"
      ]
    },
    {
      "cell_type": "code",
      "metadata": {
        "id": "-o2VVKk2ZlhM",
        "colab_type": "code",
        "colab": {}
      },
      "source": [
        "### Try different ways of initializing time stamps ###\n",
        "dates = pd.date_range('20130101','20130108')\n",
        "dates = pd.date_range('20130101', periods=10, freq='M') #Default frequency is 'D'\n",
        "dates"
      ],
      "execution_count": 0,
      "outputs": []
    },
    {
      "cell_type": "code",
      "metadata": {
        "id": "NKzCQbAhUTG4",
        "colab_type": "code",
        "colab": {}
      },
      "source": [
        "# Convert date column in dataset to datetime object\n",
        "guns = pd.read_csv('/content/drive/My Drive/cfr_bootcamp/Data/violence_data/Gun_Crimes_Heat_Map.csv')\n",
        "guns['Date'] =  pd.to_datetime(guns['Date'])\n",
        "guns['year'] = guns['Date'].dt.year\n",
        "guns.head()"
      ],
      "execution_count": 0,
      "outputs": []
    },
    {
      "cell_type": "markdown",
      "metadata": {
        "id": "B7E8SxwjLjVq",
        "colab_type": "text"
      },
      "source": [
        "## Examplary dataset from sklearn (load_iris)\n",
        "One example dataset from sklearn. We will go over basic pandas built-in functions based on that. \n",
        "*  .head/tail"
      ]
    },
    {
      "cell_type": "code",
      "metadata": {
        "id": "j38j1PA6HyQB",
        "colab_type": "code",
        "colab": {}
      },
      "source": [
        "data = skdata.load_iris()\n",
        "df_iris = pd.DataFrame(data.data, columns = data.feature_names)\n",
        "df_iris['target'] = data.target\n",
        "\n",
        "#Rename the dataset\n",
        "df_iris_new = df_iris.rename(columns={'sepal length (cm)':'sepal_len','sepal width (cm)':'sepal_wid','petal length (cm)':'petal_len','petal width (cm)':'petal_wid'})\n",
        "\n",
        "# to view dataframes interactivly (Don't use print)\n",
        "df_iris\n"
      ],
      "execution_count": 0,
      "outputs": []
    },
    {
      "cell_type": "markdown",
      "metadata": {
        "id": "JhFCi-maAjBb",
        "colab_type": "text"
      },
      "source": [
        "* df.describe shows basic statistics of the given DataFrame. "
      ]
    },
    {
      "cell_type": "code",
      "metadata": {
        "id": "ofMbMJ7_Ag_B",
        "colab_type": "code",
        "colab": {}
      },
      "source": [
        "df_iris.describe()"
      ],
      "execution_count": 0,
      "outputs": []
    },
    {
      "cell_type": "markdown",
      "metadata": {
        "id": "_yAVLepm5qN9",
        "colab_type": "text"
      },
      "source": [
        "*  Multiple lines output by your own design:"
      ]
    },
    {
      "cell_type": "code",
      "metadata": {
        "id": "mQDaAe315vMK",
        "colab_type": "code",
        "colab": {}
      },
      "source": [
        "df_iris.agg(['std', 'mean','min','median','max'])"
      ],
      "execution_count": 0,
      "outputs": []
    },
    {
      "cell_type": "markdown",
      "metadata": {
        "id": "gBLNtS0S51Pr",
        "colab_type": "text"
      },
      "source": [
        "*  df.columns show column names\n",
        "*  df.index show index range\n",
        "*  df.idxmin (equivalent to np.argmin)"
      ]
    },
    {
      "cell_type": "code",
      "metadata": {
        "id": "tyX-NvuE55JE",
        "colab_type": "code",
        "colab": {}
      },
      "source": [
        "# blank cell\n",
        "df_iris.idxmin()\n"
      ],
      "execution_count": 0,
      "outputs": []
    },
    {
      "cell_type": "markdown",
      "metadata": {
        "id": "9OYImwAXnemd",
        "colab_type": "text"
      },
      "source": [
        "Use value_count for a pd.Series (1D array from DataFrame will do): \n"
      ]
    },
    {
      "cell_type": "code",
      "metadata": {
        "id": "xFOKNQdEnlfR",
        "colab_type": "code",
        "colab": {}
      },
      "source": [
        "df_iris['target'].value_counts()"
      ],
      "execution_count": 0,
      "outputs": []
    },
    {
      "cell_type": "markdown",
      "metadata": {
        "id": "M8gQCVd6SHEj",
        "colab_type": "text"
      },
      "source": [
        "### Start by adding rows and columns.\n",
        "\n"
      ]
    },
    {
      "cell_type": "markdown",
      "metadata": {
        "id": "H5Ynd6eNfU8h",
        "colab_type": "text"
      },
      "source": [
        "* df.append() <br>\n",
        "\n",
        "Using pandas.DataFrame.append(). <br>\n",
        "https://pandas.pydata.org/pandas-docs/stable/reference/api/pandas.DataFrame.append.html <br>\n",
        "\n",
        "pd.DataFrame append doesn't happen in-place. Be sure to use dfnew = df.append(dfnew). "
      ]
    },
    {
      "cell_type": "code",
      "metadata": {
        "id": "zb5cyuYSSG0p",
        "colab_type": "code",
        "colab": {}
      },
      "source": [
        "# Check the structure of df_iris\n",
        "df_iris.tail()"
      ],
      "execution_count": 0,
      "outputs": []
    },
    {
      "cell_type": "code",
      "metadata": {
        "id": "jSiKig3RSTyY",
        "colab_type": "code",
        "colab": {}
      },
      "source": [
        "iris_new = pd.DataFrame({'sepal length (cm)': [0], 'sepal width (cm)':[0],'petal length (cm)':[0],'petal width (cm)': [0],'target':[0]})\n",
        "df_iris = df_iris.append(iris_new,ignore_index=True)\n",
        "df_iris.tail()"
      ],
      "execution_count": 0,
      "outputs": []
    },
    {
      "cell_type": "markdown",
      "metadata": {
        "id": "BxeFCy2nViNM",
        "colab_type": "text"
      },
      "source": [
        "Adding a column to pd.DataFrame \n",
        "\n",
        "*   Use square bracket\n",
        "*   Use df.insert\n",
        "*   Use df.assign\n",
        "\n"
      ]
    },
    {
      "cell_type": "code",
      "metadata": {
        "id": "0_H2k9JmVefH",
        "colab_type": "code",
        "colab": {}
      },
      "source": [
        "# You can add number, time, string as the new column\n",
        "dates = pd.date_range('20130101', periods=len(df_iris), freq='5T') #Default frequency is 'D'\n",
        "df_iris['time'] = dates\n"
      ],
      "execution_count": 0,
      "outputs": []
    },
    {
      "cell_type": "code",
      "metadata": {
        "id": "WRI_liBhhDXU",
        "colab_type": "code",
        "colab": {}
      },
      "source": [
        "# With df.assign \n",
        "#df_iris.assign(time=dates)\n",
        "\n"
      ],
      "execution_count": 0,
      "outputs": []
    },
    {
      "cell_type": "code",
      "metadata": {
        "id": "1vQ7_ENWhmVi",
        "colab_type": "code",
        "colab": {}
      },
      "source": [
        "# With df.insert\n",
        "df_iris.insert(0,'time',dates)\n",
        "df_iris"
      ],
      "execution_count": 0,
      "outputs": []
    },
    {
      "cell_type": "code",
      "metadata": {
        "id": "4fHwEW2bsGlF",
        "colab_type": "code",
        "colab": {}
      },
      "source": [
        "# The empty space below could be number, string, etc.\n",
        "#df_iris['new_col'] = ['new' for li in range(len(df_iris))]\n",
        "# Or add a new column with values given to specific rows \n",
        "df_iris['new_col'] = pd.Series([-1.2, -1.5, -1.7], index=[0,2,4])\n",
        "df_iris.head()"
      ],
      "execution_count": 0,
      "outputs": []
    },
    {
      "cell_type": "markdown",
      "metadata": {
        "id": "lGlpAh5JcI9z",
        "colab_type": "text"
      },
      "source": [
        "### Let's remove the rows and columns we added"
      ]
    },
    {
      "cell_type": "markdown",
      "metadata": {
        "id": "zSo_5C6Qcf2K",
        "colab_type": "text"
      },
      "source": [
        "**Note:** Make sure you are removing a row/column already added. "
      ]
    },
    {
      "cell_type": "code",
      "metadata": {
        "id": "KxUznTmPcNue",
        "colab_type": "code",
        "colab": {}
      },
      "source": [
        "df_iris.drop([150]).tail()"
      ],
      "execution_count": 0,
      "outputs": []
    },
    {
      "cell_type": "code",
      "metadata": {
        "id": "4yfo3JMfcVVP",
        "colab_type": "code",
        "colab": {}
      },
      "source": [
        "df_iris.drop(columns=['new_col','time']).head()"
      ],
      "execution_count": 0,
      "outputs": []
    },
    {
      "cell_type": "markdown",
      "metadata": {
        "id": "El010S589Rou",
        "colab_type": "text"
      },
      "source": [
        "### Arithmetic features"
      ]
    },
    {
      "cell_type": "markdown",
      "metadata": {
        "id": "3W6LxW5uUkKg",
        "colab_type": "text"
      },
      "source": [
        "Add, subtract, multiply and divide are enables with pd.Series or pd.DataFrame of the mathcing dimensions.  "
      ]
    },
    {
      "cell_type": "code",
      "metadata": {
        "id": "D047gd3Q9UqK",
        "colab_type": "code",
        "colab": {}
      },
      "source": [
        "# Calculate the ratio between sepal length and width\n",
        "sepal_rat = df_iris['sepal length (cm)'] / df_iris['sepal width (cm)']\n",
        "sepal_rat.head()\n",
        "\n"
      ],
      "execution_count": 0,
      "outputs": []
    },
    {
      "cell_type": "markdown",
      "metadata": {
        "id": "ElCGPAvv7nry",
        "colab_type": "text"
      },
      "source": [
        "### Subsetting based on some selection"
      ]
    },
    {
      "cell_type": "markdown",
      "metadata": {
        "id": "VdtiR6L_-stT",
        "colab_type": "text"
      },
      "source": [
        "*  Filter with square bracket\n",
        "*  Filter with .loc/.iloc"
      ]
    },
    {
      "cell_type": "code",
      "metadata": {
        "id": "XrDKwn7e7sPQ",
        "colab_type": "code",
        "colab": {}
      },
      "source": [
        "# Select a subset with square bracket/loc\n",
        "dfnew = df_iris[(df_iris.index >= 10)]\n",
        "dfnew"
      ],
      "execution_count": 0,
      "outputs": []
    },
    {
      "cell_type": "code",
      "metadata": {
        "id": "8NW6szN6-2YH",
        "colab_type": "code",
        "colab": {}
      },
      "source": [
        "# Subset with iloc\n",
        "dfnew = df_iris.iloc[[0,3,4,5]]\n",
        "dfnew"
      ],
      "execution_count": 0,
      "outputs": []
    },
    {
      "cell_type": "markdown",
      "metadata": {
        "id": "a5yn0Bqse8WK",
        "colab_type": "text"
      },
      "source": [
        "## Exercise: Manipulating a toy DataFrame"
      ]
    },
    {
      "cell_type": "markdown",
      "metadata": {
        "id": "Q3g0BhOXfBir",
        "colab_type": "text"
      },
      "source": [
        "A toy DataFrame of population data (million) of two states in certain years are given. \n",
        "\n",
        "*   California, 1990, 29.8\n",
        "*   California, 2000, 33.9\n",
        "*   California, 2010, 37.3\n",
        "*   Michigen, 1990, 9.3\n",
        "*   Michigen, 2000, 9.9\n",
        "*   Michigen, 2010, 9.9\n",
        "\n",
        "Now start to explore a little bit: <br>\n",
        "1.   Add one column of estimated population change from 2010 to 2019 in both states. \n",
        "*   California, 1990, 29.8, np.nan\n",
        "*   California, 2000, 33.9, np.nan\n",
        "*   California, 2010, 37.3, 2.6\n",
        "*   Michigen, 1990, 9.3, np.nan\n",
        "*   Michigen, 2000, 9.9, np.nan\n",
        "*   Michigen, 2010, 9.9, 1.0\n",
        "Note: Suggested to add elements with indexing. <br> \n",
        "2.   Construct this DataFrame with three rows for Illinois. Append to the above DataFrame. \n",
        "*   Illinois, 1990, 11.4, np.nan\n",
        "*   Illinois, 2000, 12.4, np.nan\n",
        "*   Illinois, 2010, 12.8, -0.1\n",
        "3.   Calculate population of three states in year 2019 with arithmatic features. \n",
        "\n",
        "Reference: \n",
        "https://simple.wikipedia.org/wiki/List_of_U.S._states_by_population <br> \n",
        "https://en.wikipedia.org/wiki/2000_United_States_Census\n",
        "\n"
      ]
    },
    {
      "cell_type": "code",
      "metadata": {
        "id": "LLyjPEF_e8BF",
        "colab_type": "code",
        "colab": {}
      },
      "source": [
        "# Given the toy dataset here\n",
        "data = {'state': ['California', 'California', 'California', 'Michigen', 'Michigen', 'Michigen'],\n",
        "        'year': [1990, 2000, 2010, 1990, 2000, 2010],\n",
        "        'pop': [29.8, 33.9, 37.3, 9.3, 9.9, 9.9]}\n",
        "df_pop = pd.DataFrame(data)\n"
      ],
      "execution_count": 0,
      "outputs": []
    },
    {
      "cell_type": "code",
      "metadata": {
        "id": "f4bYiYaGsvBP",
        "colab_type": "code",
        "colab": {}
      },
      "source": [
        "# Start to explore \n",
        "df_pop['pop_diff'] = pd.Series([2.6,1.0],index=[2,5])\n",
        "df_pop = df_pop[df_pop['year'] == 2010]\n",
        "df_pop['pop'] + df_pop['pop_diff']"
      ],
      "execution_count": 0,
      "outputs": []
    },
    {
      "cell_type": "markdown",
      "metadata": {
        "id": "jOr_Kp36IVX_",
        "colab_type": "text"
      },
      "source": [
        "## Start building a first dataframe (with reanalysis)"
      ]
    },
    {
      "cell_type": "markdown",
      "metadata": {
        "id": "pu3yRaiuFjW5",
        "colab_type": "text"
      },
      "source": [
        "One line example of DataFrame structure we want to use. "
      ]
    },
    {
      "cell_type": "code",
      "metadata": {
        "id": "xNcZA-Z1HyU-",
        "colab_type": "code",
        "colab": {}
      },
      "source": [
        "df = pd.DataFrame({'year':[0],'month':[0],'day':[0],'hour':[0],'lon':[0],'lat':[0],'t2m':[0],'sp':[0],'d2m':[0],'lsm':[0]})\n",
        "df"
      ],
      "execution_count": 0,
      "outputs": []
    },
    {
      "cell_type": "markdown",
      "metadata": {
        "id": "2pKy3Ld4ynl5",
        "colab_type": "text"
      },
      "source": [
        "Converting this simple DataFrame to and from ndarray. "
      ]
    },
    {
      "cell_type": "code",
      "metadata": {
        "id": "HM4Ecx6lyroQ",
        "colab_type": "code",
        "colab": {}
      },
      "source": [
        "# Converting DataFrame to numpy\n",
        "new_dict = np.asarray(df)\n",
        "type(new_dict)\n"
      ],
      "execution_count": 0,
      "outputs": []
    },
    {
      "cell_type": "code",
      "metadata": {
        "id": "O2Jon-koz4je",
        "colab_type": "code",
        "colab": {}
      },
      "source": [
        "# Converting numpy to DataFrame \n",
        "dfnew = pd.DataFrame.from_dict(new_dict)\n",
        "type(dfnew)"
      ],
      "execution_count": 0,
      "outputs": []
    },
    {
      "cell_type": "markdown",
      "metadata": {
        "id": "Kqu-MRB_I4uy",
        "colab_type": "text"
      },
      "source": [
        "Adding rows of pandas.DataFrame to the empty one: "
      ]
    },
    {
      "cell_type": "code",
      "metadata": {
        "id": "dwiEbk-gazp-",
        "colab_type": "code",
        "colab": {}
      },
      "source": [
        "# For-loops: quite slow. \n",
        "%%time\n",
        "filelist  = os.listdir(loaddir+'reanalysis_data/')\n",
        "files     = fnmatch.filter(filelist, 'era5_global*.nc')\n",
        "\n",
        "df = pd.DataFrame()\n",
        "print('Total number of files are: '+str(len(files)))\n",
        "\n",
        "for myfile in files: \n",
        "    filepath = '%s/%s'%(loaddir+'reanalysis_data/',myfile)\n",
        "    f = Dataset(filepath,'r')\n",
        "    # Alternatively: Extract year and mth from filename\n",
        "    #ID = filepath.split('_global_', 1)[1]\n",
        "    #my_year = ID[0:4]\n",
        "    #my_mth = ID[4:6]\n",
        "    lon = f['longitude']\n",
        "    lat = f['latitude']\n",
        "    time = f['time']\n",
        "    # Just take 1 timestep in each month as an example\n",
        "    nts = 1 #1 timestep\n",
        "    nlon = len(lon)\n",
        "    nlat = len(lat)\n",
        "    print(nlon,nlat)\n",
        "    #1st dimension: time; 2nd dimension: lat; 3rd dimension: lon.\n",
        "    lsm = f['lsm'][0,:,:]\n",
        "    for its in range(nts):\n",
        "      dt = netCDF4.num2date(time[its],units=time.units,calendar=time.calendar)\n",
        "      my_year = dt.strftime('%Y')\n",
        "      my_mth = dt.strftime('%m')\n",
        "      my_date = dt.strftime('%d')\n",
        "      my_hour = dt.strftime('%#H')\n",
        "      print('This is: '+ str(dt))\n",
        "      \n",
        "      t2m = f['t2m'][its,:,:]\n",
        "      sp = f['sp'][its,:,:]\n",
        "      d2m = f['d2m'][its,:,:]\n",
        "      \n",
        "      for ilon in np.arange(nlon):\n",
        "        for ilat in np.arange(nlat):\n",
        "            dfnew = pd.DataFrame({'year':[my_year],'month':[my_mth],'day':[my_date],'hour':[my_hour],'lon':[lon[ilon]],'lat':[lat[ilat]],'t2m':[t2m[ilat,ilon]],'sp':[sp[ilat,ilon]],'d2m':[d2m[ilat,ilon]],'lsm':[lsm[ilat,ilon]]})           \n",
        "            df = df.append(dfnew, ignore_index=True)\n",
        "            \n"
      ],
      "execution_count": 0,
      "outputs": []
    },
    {
      "cell_type": "code",
      "metadata": {
        "id": "YqNWf7TMQ0E4",
        "colab_type": "code",
        "colab": {}
      },
      "source": [
        "df.head()"
      ],
      "execution_count": 0,
      "outputs": []
    },
    {
      "cell_type": "markdown",
      "metadata": {
        "id": "gV1wlrqhW_1E",
        "colab_type": "text"
      },
      "source": [
        "Here are two functions to compress the ndarray to 1D, in specified order. \n",
        "*   np.ravel\n",
        "*   np.flatten\n",
        "\n",
        "**Order**: C,F,A,K\n",
        "- C Is Contiguous layout. Mathematically speaking, row major.\n",
        "- F Is Fortran contiguous layout. Mathematically speaking, column major.\n",
        "- A Is any order. Generally don't use this.\n",
        "- K Is keep order. Generally don't use this.\n",
        "https://stackoverflow.com/questions/27266338/what-does-the-order-parameter-in-numpy-array-do-aka-what-is-contiguous-order\n",
        "<br>\n",
        "\n",
        "**Difference?**  <br>\n",
        "np.flatten returns a copy, but np.ravel does not (faster).\n",
        "https://stackoverflow.com/questions/28930465/what-is-the-difference-between-flatten-and-ravel-functions-in-numpy\n",
        "\n"
      ]
    },
    {
      "cell_type": "code",
      "metadata": {
        "id": "8tMSSKA3W5aO",
        "colab_type": "code",
        "outputId": "cadad1e2-7a91-473d-cf23-f90e41585096",
        "colab": {
          "base_uri": "https://localhost:8080/",
          "height": 34
        }
      },
      "source": [
        "# Introducing np.ravel and np.flatten first:\n",
        "arr = np.arange(12).reshape((4,3))\n",
        "arr\n",
        "arr.flatten(order='C')\n"
      ],
      "execution_count": 0,
      "outputs": [
        {
          "output_type": "execute_result",
          "data": {
            "text/plain": [
              "array([ 0,  3,  6,  9,  1,  4,  7, 10,  2,  5,  8, 11])"
            ]
          },
          "metadata": {
            "tags": []
          },
          "execution_count": 6
        }
      ]
    },
    {
      "cell_type": "markdown",
      "metadata": {
        "id": "XI432x7f9jzE",
        "colab_type": "text"
      },
      "source": [
        "Here's a workaround I and Jim came up with. It saves us from extremely time-consuming for-loops. "
      ]
    },
    {
      "cell_type": "code",
      "metadata": {
        "id": "9skXHFZ-yobn",
        "colab_type": "code",
        "colab": {}
      },
      "source": [
        "# Let's get rid of the for-loop in spatial dimensions with np.ravel\n",
        "%%time\n",
        "filelist  = os.listdir(loaddir+'reanalysis_data/')\n",
        "files     = fnmatch.filter(filelist, 'era5_global*.nc')\n",
        "\n",
        "df = pd.DataFrame()\n",
        "print('Total number of files are: '+str(len(files)))\n",
        "\n",
        "for myfile in files: \n",
        "    filepath = '%s/%s'%(loaddir+'reanalysis_data/',myfile)\n",
        "    f = Dataset(filepath,'r')\n",
        "\n",
        "    lon = f['longitude']\n",
        "    lat = f['latitude']\n",
        "    mylon, mylat = np.meshgrid(lon,lat)\n",
        "    mesh_lon = mylon.ravel()\n",
        "    mesh_lat = mylat.ravel()\n",
        "    time = f['time']\n",
        "    # Take all time\n",
        "    nts = len(time)\n",
        "    # To compare with the above code\n",
        "    #nts=1\n",
        "    for its in range(nts):\n",
        "      dt = netCDF4.num2date(time[its],units=time.units,calendar=time.calendar)\n",
        "      my_year = dt.year\n",
        "      my_mth = dt.month\n",
        "      my_date = dt.day\n",
        "      my_hour = dt.hour\n",
        "      lsm = f['lsm'][its,:,:].ravel()\n",
        "      t2m = f['t2m'][its,:,:].ravel()\n",
        "      sp = f['sp'][its,:,:].ravel()\n",
        "      d2m = f['d2m'][its,:,:].ravel()  \n",
        "\n",
        "      dfnew = pd.DataFrame({'year':my_year,'month':my_mth,'day':my_date,'hour':my_hour,'lon':mesh_lon,'lat':mesh_lat,'t2m':t2m,'sp':sp,'d2m':d2m,'lsm':lsm})           \n",
        "      df = df.append(dfnew, ignore_index=True)\n",
        "\n"
      ],
      "execution_count": 0,
      "outputs": []
    },
    {
      "cell_type": "code",
      "metadata": {
        "id": "TCyLFI1NO8eI",
        "colab_type": "code",
        "colab": {}
      },
      "source": [
        "df.iloc[300:350]\n"
      ],
      "execution_count": 0,
      "outputs": []
    },
    {
      "cell_type": "code",
      "metadata": {
        "id": "ejIh7jIpBF3-",
        "colab_type": "code",
        "colab": {}
      },
      "source": [
        "#Save DataFrame to csv (in homedir)\n",
        "#df.to_csv(homedir+'era5_surface_longform_new.csv')"
      ],
      "execution_count": 0,
      "outputs": []
    },
    {
      "cell_type": "markdown",
      "metadata": {
        "id": "pfRut2mqFEsv",
        "colab_type": "text"
      },
      "source": [
        "### Additional step: What if we also get rid of for-loop for time? "
      ]
    },
    {
      "cell_type": "code",
      "metadata": {
        "id": "I8SCaSj2zuZl",
        "colab_type": "code",
        "colab": {}
      },
      "source": [
        "# Let's get rid of the for-loop in time dimension also\n",
        "%%time\n",
        "filelist  = os.listdir(loaddir+'reanalysis_data/')\n",
        "files     = fnmatch.filter(filelist, 'era5_global*.nc')\n",
        "\n",
        "df = pd.DataFrame()\n",
        "#print('Total number of files are: '+str(len(files)))\n",
        "\n",
        "for myfile in files: \n",
        "    filepath = '%s/%s'%(loaddir+'reanalysis_data/',myfile)\n",
        "    f = Dataset(filepath,'r')\n",
        "    lon = f['longitude']\n",
        "    lat = f['latitude']\n",
        "    time = f['time']\n",
        "    mylon, mylat, mytime = np.meshgrid(lon,lat,time)\n",
        "    mesh_time = mytime.ravel()\n",
        "    mesh_lon = mylon.ravel()\n",
        "    mesh_lat = mylat.ravel()\n",
        "    \n",
        "    dt = netCDF4.num2date(mesh_time,units=time.units,calendar=time.calendar)\n",
        "    my_year = [dtnew.year for dtnew in dt]\n",
        "    my_mth =  [dtnew.month for dtnew in dt]\n",
        "    my_date = [dtnew.day for dtnew in dt]\n",
        "    my_hour = [dtnew.hour for dtnew in dt]\n",
        "    \n",
        "    lsm = f['lsm'][:,:,:].ravel()\n",
        "    t2m = f['t2m'][:,:,:].ravel()\n",
        "    sp = f['sp'][:,:,:].ravel()\n",
        "    d2m = f['d2m'][:,:,:].ravel()\n",
        "    \n",
        "\n",
        "    dfnew = pd.DataFrame({'year':my_year,'month':my_mth,'day':my_date,'hour':my_hour,'lon':mesh_lon,'lat':mesh_lat,'t2m':t2m,'sp':sp,'d2m':d2m,'lsm':lsm})           \n",
        "    df = df.append(dfnew, ignore_index=True)"
      ],
      "execution_count": 0,
      "outputs": []
    },
    {
      "cell_type": "markdown",
      "metadata": {
        "id": "pXRbWbXO8gkP",
        "colab_type": "text"
      },
      "source": [
        "**Conclusion:** It seems what is taking the longest time is the repeated data processing in large for-loops (1000 iterations) that piled up together."
      ]
    },
    {
      "cell_type": "markdown",
      "metadata": {
        "id": "7fETXPORIgPx",
        "colab_type": "text"
      },
      "source": [
        "## Manipulating Dataframes (Subsetting & Rearanging)"
      ]
    },
    {
      "cell_type": "code",
      "metadata": {
        "id": "kxSE-38Jbpou",
        "colab_type": "code",
        "colab": {}
      },
      "source": [
        "# Read from csv \n",
        "# Use first column as index_col, or one additional column of 'Unnamed:0' will appear. \n",
        "df = pd.read_csv(loaddir+'/era5_surface_longform.csv',index_col=0)\n",
        "print(df.head())\n",
        "print(len(df))\n"
      ],
      "execution_count": 0,
      "outputs": []
    },
    {
      "cell_type": "markdown",
      "metadata": {
        "id": "pmMdUgOeT-hM",
        "colab_type": "text"
      },
      "source": [
        "Sort along one dimension specified: "
      ]
    },
    {
      "cell_type": "code",
      "metadata": {
        "id": "JKVkNGqbn3UU",
        "colab_type": "code",
        "colab": {}
      },
      "source": [
        "dfnew = df.sort_values(by=['t2m'],ascending=True)\n",
        "print('Ascending in order sorted by t2m')\n",
        "print(dfnew.head())\n"
      ],
      "execution_count": 0,
      "outputs": []
    },
    {
      "cell_type": "markdown",
      "metadata": {
        "id": "sJwqBwllDow7",
        "colab_type": "text"
      },
      "source": [
        "Selecting columns: \n",
        "\n",
        "\n",
        "*   Use square bracket df['var']\n",
        "*   Use df.var\n",
        "*   Select multiple columns\n",
        "*   Reindex the DataFrame\n"
      ]
    },
    {
      "cell_type": "code",
      "metadata": {
        "id": "7RnPm4wRDsTK",
        "colab_type": "code",
        "colab": {}
      },
      "source": [
        "# blank cell\n",
        "df.t2m.iloc[300:320]\n",
        "#df[['year','month','date','hour','lon','lat','t2m']].head()\n"
      ],
      "execution_count": 0,
      "outputs": []
    },
    {
      "cell_type": "code",
      "metadata": {
        "id": "2Sl0aFqStpiC",
        "colab_type": "code",
        "colab": {}
      },
      "source": [
        "# Change the original order with reindex\n",
        "df[0:20].reindex(list(range(0,20,2)))\n",
        "#df[0:20].reindex([0,10,1,3,4,5])"
      ],
      "execution_count": 0,
      "outputs": []
    },
    {
      "cell_type": "markdown",
      "metadata": {
        "id": "U1TEWH7vzS9W",
        "colab_type": "text"
      },
      "source": [
        "### Rearanging DataFrame with pd.melt: <br> \n",
        "**pd.melt**: Rearange the dataset to select certain variables as identifier (id_vars) and others as values (value_vars). <br>\n"
      ]
    },
    {
      "cell_type": "code",
      "metadata": {
        "id": "tFekFEs1Im9j",
        "colab_type": "code",
        "colab": {}
      },
      "source": [
        "### Melt \n",
        "dfnew = pd.melt(df,id_vars = ['year','month','date','hour','lon','lat'],value_vars = ['t2m','d2m','sp'])\n",
        "dfnew.head()\n"
      ],
      "execution_count": 0,
      "outputs": []
    },
    {
      "cell_type": "markdown",
      "metadata": {
        "id": "UpMu4JBYAFiG",
        "colab_type": "text"
      },
      "source": [
        "### Converting long-form data back to gridded data with pd.pivot. \n",
        "**df.pivot**: Convert long-form data back to 2D gridded data. See example later. \n",
        "**Note**: Don't worry about plotting part. Just take the code and plot a map (Not required content for this section). "
      ]
    },
    {
      "cell_type": "code",
      "metadata": {
        "id": "jnuUN__tAL0W",
        "colab_type": "code",
        "colab": {}
      },
      "source": [
        "### To install basemap (does not come pre-loaded). Run following two lines only once.\n",
        "#!apt-get -qq install libgeos-dev\n",
        "#!pip install -qq https://github.com/matplotlib/basemap/archive/master.zip\n",
        "from mpl_toolkits.basemap import Basemap\n",
        "\n",
        "### This is not a good example of projection\n",
        "import datetime\n",
        "# Feel free to play around with the time below\n",
        "mytime = datetime.datetime(2015,1,1,0,0,0)\n",
        "df_time1 = df.loc[(df.month == 1) & (df.date == 1) & (df.hour == mytime.hour)]\n",
        "df_pivot = df_time1.pivot(index='lat',columns='lon',values='t2m')\n",
        "df_pivot.head()\n"
      ],
      "execution_count": 0,
      "outputs": []
    },
    {
      "cell_type": "code",
      "metadata": {
        "id": "MNDgYK7RKZza",
        "colab_type": "code",
        "colab": {}
      },
      "source": [
        "### Now let's plot a map\n",
        "# Also you may zoom in by changing boundaries \n",
        "m = Basemap(projection='cyl',resolution='c',llcrnrlat=-90,urcrnrlat=90,llcrnrlon=0,urcrnrlon=360)\n",
        "m.drawcountries()\n",
        "m.drawcoastlines()\n",
        "t2m_time1 = df_pivot.to_numpy()\n",
        "m.imshow(t2m_time1,cmap='Reds')\n",
        "plt.title(mytime.strftime('%Y/%m/%d %H:%M:%S')+' T2M')\n"
      ],
      "execution_count": 0,
      "outputs": []
    },
    {
      "cell_type": "markdown",
      "metadata": {
        "id": "wzC1562GGOZG",
        "colab_type": "text"
      },
      "source": [
        "## Applying internal & external functions to DataFrame\n"
      ]
    },
    {
      "cell_type": "markdown",
      "metadata": {
        "id": "BbI54-nyoy24",
        "colab_type": "text"
      },
      "source": [
        "### Row or column-wise function application (df.apply)"
      ]
    },
    {
      "cell_type": "markdown",
      "metadata": {
        "id": "Ndli31Tcjxd2",
        "colab_type": "text"
      },
      "source": [
        "Basic built-in functions: \n",
        "https://pandas.pydata.org/pandas-docs/stable/getting_started/basics.html"
      ]
    },
    {
      "cell_type": "markdown",
      "metadata": {
        "id": "3EarGzE6gx2p",
        "colab_type": "text"
      },
      "source": [
        "**For internal functions:** Use attribute access. \n",
        "*  Mean, sum\n",
        "*  Iterrows\n",
        "*  Empty\n",
        "*  Flexible comparison: gt, lt. \n",
        "*  Boolean reduction: All, any."
      ]
    },
    {
      "cell_type": "code",
      "metadata": {
        "id": "KGNlUwa-g3Vg",
        "colab_type": "code",
        "colab": {}
      },
      "source": [
        "df['t2m'].mean()\n",
        "df.head()"
      ],
      "execution_count": 0,
      "outputs": []
    },
    {
      "cell_type": "markdown",
      "metadata": {
        "id": "pnISeUbzrnob",
        "colab_type": "text"
      },
      "source": [
        "Loop over DataFrame with df.iterrows"
      ]
    },
    {
      "cell_type": "code",
      "metadata": {
        "id": "QFUyMYEarxX0",
        "colab_type": "code",
        "colab": {}
      },
      "source": [
        "for i, j in df.iloc[0:3].iterrows():\n",
        "    print(i, j)"
      ],
      "execution_count": 0,
      "outputs": []
    },
    {
      "cell_type": "markdown",
      "metadata": {
        "id": "8QWDa1bQ2Loh",
        "colab_type": "text"
      },
      "source": [
        "Test if the DataFrame is empty:"
      ]
    },
    {
      "cell_type": "code",
      "metadata": {
        "id": "GsGgUCZH2Swj",
        "colab_type": "code",
        "colab": {}
      },
      "source": [
        "df.empty"
      ],
      "execution_count": 0,
      "outputs": []
    },
    {
      "cell_type": "markdown",
      "metadata": {
        "id": "46PlVvssWD6u",
        "colab_type": "text"
      },
      "source": [
        "Flexible comparison: Compare two DataFrame of the same shape with gt (greater than) or lt (less than). "
      ]
    },
    {
      "cell_type": "code",
      "metadata": {
        "id": "5dhNTt42WMq_",
        "colab_type": "code",
        "colab": {}
      },
      "source": [
        "df['t2m'].lt(df['d2m'])"
      ],
      "execution_count": 0,
      "outputs": []
    },
    {
      "cell_type": "markdown",
      "metadata": {
        "id": "cxNLHgQrqGWj",
        "colab_type": "text"
      },
      "source": [
        "Boolean expression with query:"
      ]
    },
    {
      "cell_type": "code",
      "metadata": {
        "id": "IXjvCEbYqJoX",
        "colab_type": "code",
        "colab": {}
      },
      "source": [
        "df.query('t2m < d2m')"
      ],
      "execution_count": 0,
      "outputs": []
    },
    {
      "cell_type": "markdown",
      "metadata": {
        "id": "E2_reQRIVjDQ",
        "colab_type": "text"
      },
      "source": [
        "Boolean reduction: Is there any True value (any)? Are they all True values (all)?"
      ]
    },
    {
      "cell_type": "code",
      "metadata": {
        "id": "JpJItA9xVowG",
        "colab_type": "code",
        "colab": {}
      },
      "source": [
        "myloc = df['t2m'].lt(df['d2m'])\n",
        "myloc.any()\n",
        "\n",
        "# In case you are interested\n",
        "# Meteorological concept: Supersaturation\n",
        "#df.loc[myloc]\n"
      ],
      "execution_count": 0,
      "outputs": []
    },
    {
      "cell_type": "markdown",
      "metadata": {
        "id": "frJe1KMjgws7",
        "colab_type": "text"
      },
      "source": [
        "**For external functions:**\n",
        "Use df.apply() to nake use of external functions. "
      ]
    },
    {
      "cell_type": "code",
      "metadata": {
        "id": "TQTl57dhGeb8",
        "colab_type": "code",
        "colab": {}
      },
      "source": [
        "df[:10].apply(np.cumsum)"
      ],
      "execution_count": 0,
      "outputs": []
    },
    {
      "cell_type": "markdown",
      "metadata": {
        "id": "QIl4K4WpG_FN",
        "colab_type": "text"
      },
      "source": [
        "With lambda functions. "
      ]
    },
    {
      "cell_type": "code",
      "metadata": {
        "id": "KrByuh67HCnM",
        "colab_type": "code",
        "colab": {}
      },
      "source": [
        "# Lambda function with apply\n",
        "df[['t2m','sp','d2m']].apply(lambda x: np.percentile(x,50))\n"
      ],
      "execution_count": 0,
      "outputs": []
    },
    {
      "cell_type": "markdown",
      "metadata": {
        "id": "k7CIHjoRE1Xi",
        "colab_type": "text"
      },
      "source": [
        "## More Advanced Example: Subsetting"
      ]
    },
    {
      "cell_type": "code",
      "metadata": {
        "id": "3icA_faZ0Rh2",
        "colab_type": "code",
        "colab": {}
      },
      "source": [
        "# Filter with conditions\n",
        "df_NS60 = df[((df.lat >= -60) & (df.lat <= 60))]\n",
        "#Equivalent to: \n",
        "df_NS60 = df.loc[((df.lat >= -60) & (df.lat <= 60))]\n",
        "#Also equivalent to: Subsetting by finding the location index\n",
        "df_loc_NS60 = df.iloc[np.where((df.lat >= -60) & (df.lat <= 60))]\n",
        "\n",
        "df_loc_NS60.head()"
      ],
      "execution_count": 0,
      "outputs": []
    },
    {
      "cell_type": "code",
      "metadata": {
        "id": "klc4KHdPInBN",
        "colab_type": "code",
        "colab": {}
      },
      "source": [
        "### to select the inverse\n",
        "df_polar = df[~df.index.isin(df_NS60.index)]\n",
        "print(df_polar.head())\n",
        "print(df_polar['lat'].head())"
      ],
      "execution_count": 0,
      "outputs": []
    },
    {
      "cell_type": "markdown",
      "metadata": {
        "id": "_KuL3UUgGjlB",
        "colab_type": "text"
      },
      "source": [
        "Lambda function: \n",
        "Subsetting to even number rows."
      ]
    },
    {
      "cell_type": "code",
      "metadata": {
        "id": "68lDXPwHGm8o",
        "colab_type": "code",
        "colab": {}
      },
      "source": [
        "df.iloc[lambda x: x.index % 2 == 0].head()"
      ],
      "execution_count": 0,
      "outputs": []
    },
    {
      "cell_type": "markdown",
      "metadata": {
        "id": "CL_JisQ9KPKp",
        "colab_type": "text"
      },
      "source": [
        "\n",
        "\n",
        "---\n",
        "\n",
        "\n",
        "\n",
        "---\n",
        "\n",
        "\n",
        "\n",
        "---\n",
        "\n",
        "\n",
        "\n",
        "---\n",
        "\n"
      ]
    },
    {
      "cell_type": "markdown",
      "metadata": {
        "id": "yBiMqVRWfuXv",
        "colab_type": "text"
      },
      "source": [
        "## Practice: Building your own dataset (from gridded data to long-form data)"
      ]
    },
    {
      "cell_type": "markdown",
      "metadata": {
        "id": "ZUq5KHQ4f1dz",
        "colab_type": "text"
      },
      "source": [
        "Start to build your own dataset with the following steps (30 minutes): \n",
        "\n",
        "\n",
        "*  Read data from a different gridded data: Either reanalysis_data, climate_data or crop_data/yield_simulations. <br>\n",
        "*  Building pandas DataFrame from a structure that contains necessary information: Time (yr, mth, day, hour); Spatial coordinate (lat, lon); Variables. <br>\n",
        "*  Explore the DataFrame by adding and removing rows/columns. Calcualte some statistics with built-in functions. Subset and calculate statistics again. Compare with the whole dataset. \n",
        "*  Save the DataFrame to your directory (homedir). \n",
        "*  Additional: Take the code for map plotting (Manipulating Dataframes Subsetting & Rearanging), and try to plot the variable of you chose 1) Snapshot at the first time step; 2) Temporal mean; 3) Temporal anomaly. \n",
        "\n",
        "\n",
        "\n",
        "\n",
        "\n"
      ]
    },
    {
      "cell_type": "code",
      "metadata": {
        "id": "NGeEwSTnveIf",
        "colab_type": "code",
        "colab": {}
      },
      "source": [
        "# blank cell \n"
      ],
      "execution_count": 0,
      "outputs": []
    }
  ]
}